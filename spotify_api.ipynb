{
 "cells": [
  {
   "cell_type": "code",
   "execution_count": null,
   "id": "8f538107",
   "metadata": {},
   "outputs": [],
   "source": [
    "import requests\n",
    "import pandas as pd\n",
    "import glob\n",
    "import numpy as np\n",
    "from dotenv import load_dotenv\n",
    "import os"
   ]
  },
  {
   "cell_type": "code",
   "execution_count": null,
   "id": "7373fc51",
   "metadata": {},
   "outputs": [],
   "source": [
    "csv_files = glob.glob(\"data/*.csv\")\n",
    "csv_files"
   ]
  },
  {
   "cell_type": "code",
   "execution_count": null,
   "id": "e0c0c9a7",
   "metadata": {},
   "outputs": [],
   "source": [
    "dataframes = [pd.read_csv(file).iloc[:,1:] for file in csv_files] #dont get the Unnamed: 0 column\n",
    "dataframes"
   ]
  },
  {
   "cell_type": "code",
   "execution_count": null,
   "id": "b341d917",
   "metadata": {},
   "outputs": [],
   "source": [
    "combined_df = pd.concat(dataframes,ignore_index=True) # combine all seasons into 1 single dataframe for every tv series\n",
    "combined_df.head()"
   ]
  },
  {
   "cell_type": "code",
   "execution_count": null,
   "id": "45c91821",
   "metadata": {},
   "outputs": [],
   "source": [
    "combined_df.shape"
   ]
  },
  {
   "cell_type": "code",
   "execution_count": null,
   "id": "d5a47df1",
   "metadata": {},
   "outputs": [],
   "source": [
    "len(combined_df['track_id'].unique()) # there may be some dupliceate songs"
   ]
  },
  {
   "cell_type": "code",
   "execution_count": null,
   "id": "1557c7fa",
   "metadata": {},
   "outputs": [],
   "source": [
    "duplicated_songs = combined_df[combined_df['track_id'].duplicated()] # get the duplicated songs\n",
    "duplicated_songs"
   ]
  },
  {
   "cell_type": "code",
   "execution_count": null,
   "id": "eea77388",
   "metadata": {},
   "outputs": [],
   "source": [
    "# loop through each duplicated song\n",
    "for _,row in duplicated_songs.iterrows():\n",
    "    track_id = row.track_id\n",
    "    \n",
    "    duplicate = combined_df[combined_df.track_id == track_id]\n",
    "    tv_serieses = duplicate['series_name'].unique()\n",
    "    \n",
    "    # if a song appears more than 1 time in the SAME TV SERIES than keep one of them\n",
    "    if len(tv_serieses) == 1:\n",
    "        remove_indexes = duplicate.index[1:]\n",
    "        combined_df.drop(remove_indexes, inplace=True)\n",
    "    # if a song appears MORE THAN 1 TV SERIES remove the song\n",
    "    else: \n",
    "        remove_indexes = duplicate.index\n",
    "        combined_df.drop(remove_indexes, inplace=True)\n",
    "        "
   ]
  },
  {
   "cell_type": "code",
   "execution_count": null,
   "id": "350bc3a2",
   "metadata": {},
   "outputs": [],
   "source": [
    "combined_df.shape[0],len(combined_df['track_id'].unique()) # now all the songs are unique"
   ]
  },
  {
   "cell_type": "code",
   "execution_count": null,
   "id": "8a358b9b",
   "metadata": {},
   "outputs": [],
   "source": [
    "combined_df.groupby(\"series_name\",as_index=False)['series_name'].value_counts() # there may be needed some balancing in the model training"
   ]
  },
  {
   "cell_type": "code",
   "execution_count": null,
   "id": "9ace4f38",
   "metadata": {
    "scrolled": false
   },
   "outputs": [],
   "source": [
    "# add audio features as nan values\n",
    "\n",
    "# feature explanations => https://developer.spotify.com/documentation/web-api/reference/#/operations/get-several-audio-features\n",
    "\n",
    "combined_df['danceability'] = np.nan # how suitable a track is for dancing based on a combination of musical elements including tempo, rhythm stability, beat strength, and overall regularity. \n",
    "combined_df['energy'] = np.nan  # represents a perceptual measure of intensity and activity\n",
    "combined_df['key'] = np.nan # The key the track is in. Integers map to pitches using standard Pitch Class notation. E.g. 0 = C, 1 = C♯/D♭, 2 = D, and so on. If no key was detected, the value is -1.\n",
    "combined_df['loudness'] = np.nan # the overall loudness of a track in decibels (dB)\n",
    "combined_df['mode'] = np.nan # Mode indicates the modality (major or minor) of a track, the type of scale from which its melodic content is derived. Major is represented by 1 and minor is 0.\n",
    "combined_df['speechiness'] = np.nan # Speechiness detects the presence of spoken words in a track. The more exclusively speech-like the recording (e.g. talk show, audio book, poetry), the closer to 1.0 the attribute value.\n",
    "combined_df['acousticness'] = np.nan # whether the track is acoustic\n",
    "combined_df['instrumentalness'] = np.nan # predicts whether a track contains no vocals\n",
    "combined_df['liveness'] = np.nan # higher liveness values represent an increased probability that the track was performed live.\n",
    "combined_df['valence'] = np.nan # A measure from 0.0 to 1.0 describing the musical positiveness conveyed by a track.\n",
    "combined_df['tempo'] = np.nan # The overall estimated tempo of a track in beats per minute (BPM)\n",
    "\n",
    "combined_df.head()"
   ]
  },
  {
   "cell_type": "markdown",
   "id": "0c14a258",
   "metadata": {},
   "source": [
    "<h3> Spotify API Requests </h3>"
   ]
  },
  {
   "cell_type": "code",
   "execution_count": null,
   "id": "5423aa91",
   "metadata": {},
   "outputs": [],
   "source": [
    "load_dotenv() # load the environment variables\n",
    "ACCESS_TOKEN = os.environ[\"ACCESS_TOKEN\"] # get ACCESS_TOKEN for spotify api from .env file"
   ]
  },
  {
   "cell_type": "code",
   "execution_count": null,
   "id": "8cdb4e32",
   "metadata": {},
   "outputs": [],
   "source": [
    "end_point = \"https://api.spotify.com/v1/audio-features/\" # audio features end point\n",
    "\n",
    "headers = {\"Authorization\" : f\"Bearer  {ACCESS_TOKEN}\"} # request headers"
   ]
  },
  {
   "cell_type": "code",
   "execution_count": null,
   "id": "2d6ba74c",
   "metadata": {},
   "outputs": [],
   "source": [
    "for idx,row in combined_df.iterrows():\n",
    "    track_id = row.track_id\n",
    "    \n",
    "    request_url = end_point + track_id # request url\n",
    "    response = requests.get(request_url, headers=headers) # make a get request\n",
    "    \n",
    "    if response.status_code == 200:\n",
    "        data = response.json()\n",
    "        \n",
    "        combined_df.at[idx,'danceability'] = data['danceability']\n",
    "        combined_df.at[idx,'energy'] = data['energy']\n",
    "        combined_df.at[idx,'key'] = data['key']\n",
    "        combined_df.at[idx,'loudness'] = data['loudness']\n",
    "        combined_df.at[idx,'mode'] = data['mode']\n",
    "        combined_df.at[idx,'speechiness'] = data['speechiness']\n",
    "        combined_df.at[idx,'acousticness'] = data['acousticness']\n",
    "        combined_df.at[idx,'instrumentalness'] = data['instrumentalness']\n",
    "        combined_df.at[idx,'liveness'] = data['liveness']\n",
    "        combined_df.at[idx,'valence'] = data['valence']\n",
    "        combined_df.at[idx,'tempo'] = data['tempo']\n",
    "        \n",
    "        print(track_id,\": audio features fetched successfully.\")\n",
    "    elif response.status_code == 429:\n",
    "        print('API is overwhelmed!')\n",
    "    else:\n",
    "        print(\"Something went wrong!\")"
   ]
  },
  {
   "cell_type": "code",
   "execution_count": null,
   "id": "d48e7c5c",
   "metadata": {},
   "outputs": [],
   "source": [
    "combined_df.head()"
   ]
  },
  {
   "cell_type": "code",
   "execution_count": null,
   "id": "0063b65e",
   "metadata": {},
   "outputs": [],
   "source": [
    "combined_df.to_csv(\"data/final_data.csv\",index=False) # save into csv file"
   ]
  },
  {
   "cell_type": "code",
   "execution_count": null,
   "id": "e213d013",
   "metadata": {},
   "outputs": [],
   "source": []
  }
 ],
 "metadata": {
  "kernelspec": {
   "display_name": "Python 3 (ipykernel)",
   "language": "python",
   "name": "python3"
  },
  "language_info": {
   "codemirror_mode": {
    "name": "ipython",
    "version": 3
   },
   "file_extension": ".py",
   "mimetype": "text/x-python",
   "name": "python",
   "nbconvert_exporter": "python",
   "pygments_lexer": "ipython3",
   "version": "3.9.10"
  }
 },
 "nbformat": 4,
 "nbformat_minor": 5
}
