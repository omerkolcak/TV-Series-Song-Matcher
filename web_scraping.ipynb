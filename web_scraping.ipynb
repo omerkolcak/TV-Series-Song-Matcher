{
 "cells": [
  {
   "cell_type": "code",
   "execution_count": 1,
   "id": "df2147d2",
   "metadata": {},
   "outputs": [],
   "source": [
    "from selenium import webdriver\n",
    "from selenium.webdriver.common.by import By\n",
    "import time\n",
    "import pandas as pd"
   ]
  },
  {
   "cell_type": "code",
   "execution_count": 2,
   "id": "f55516c4",
   "metadata": {},
   "outputs": [],
   "source": [
    "def get_musics_for_tv_series(driver_path, links):\n",
    "    \"\"\"\n",
    "    links: array for tunefind links for each tv series\n",
    "    \"\"\"\n",
    "    c = webdriver.ChromeOptions()\n",
    "    c.add_argument(\"--incognito\")\n",
    "\n",
    "    driver = webdriver.Chrome(driver_path,options=c)\n",
    "    driver.maximize_window()\n",
    "    \n",
    "    # loop through each link\n",
    "    for link in links:\n",
    "        driver.get(link)\n",
    "        \n",
    "        series_name = \"\" \n",
    "        for name in link.split(\"show/\")[1].split(\"-\"):\n",
    "            series_name = series_name + name.capitalize() + \" \"\n",
    "        series_name = series_name.strip()\n",
    "        print(series_name)\n",
    "        \n",
    "        seasons = driver.find_elements(by=By.CLASS_NAME, value = 'MainList_item__bR_g9') # get the seasons\n",
    "        \n",
    "        not_season_counter = 0 # there are some adds between the seasons div\n",
    "        # loop through each season\n",
    "        for idx, season in enumerate(seasons): \n",
    "\n",
    "            time.sleep(2)\n",
    "\n",
    "            df = pd.DataFrame(columns = ['series_name','track_id'])\n",
    "            \n",
    "            # try to get the season link\n",
    "            try:\n",
    "                season_link = season.find_element(by=By.TAG_NAME, value = 'a')\n",
    "                season_href = season_link.get_attribute('href')\n",
    "            except: # if you cant get season link, this means it is an addvertisement\n",
    "                not_season_counter += 1\n",
    "                continue\n",
    "\n",
    "            all_seasons_tab = driver.window_handles[0] # get the tab that contains all seasons\n",
    "\n",
    "            driver.execute_script(\"window.open('');\") # open a new empty tab\n",
    "            time.sleep(0.5)\n",
    "            season_tab = driver.window_handles[1] # get that empty tab\n",
    "\n",
    "            driver.switch_to.window(season_tab) # switch to empty tab\n",
    "            driver.get(season_href) # and go to season tab that contains each episode in the tab\n",
    "\n",
    "            episodes = driver.find_elements(by=By.CLASS_NAME, value = \"MainList_item__bR_g9\") # get all episodes\n",
    "            \n",
    "            # loop through each \n",
    "            for episode in episodes:\n",
    "                try:\n",
    "                    episode_header = episode.find_element(by=By.CLASS_NAME, value = \"EpisodeListItem_title__PkSzj\") # get the episode header\n",
    "\n",
    "                    episode_href = episode_header.find_element(by = By.TAG_NAME, value = \"a\").get_attribute('href') # get the episode link\n",
    "\n",
    "                    driver.execute_script(\"window.open('');\") # open an empty tab\n",
    "                    time.sleep(0.5)\n",
    "                    episode_tab = driver.window_handles[2] # get that empty tab\n",
    "\n",
    "                    driver.switch_to.window(episode_tab) # switch to empty tab\n",
    "                    driver.get(episode_href) # and go the episode tab that contains all the songs in that epsiode\n",
    "                    \n",
    "                    # try to get the song list\n",
    "                    try:\n",
    "                        song_list_container = driver.find_element(by=By.CLASS_NAME, value = \"SongList_container__GU1aF\")\n",
    "                    except: # that means there is no song in that episode\n",
    "                        print(\"There is no song in this episode.\")\n",
    "                        \n",
    "                        driver.close() # close that episode tab\n",
    "                        driver.switch_to.window(season_tab) # switch to season tab\n",
    "\n",
    "                        continue\n",
    "                    \n",
    "                    # if there is song get the song list\n",
    "                    spotify_buttons = song_list_container.find_elements(by=By.CLASS_NAME, value = \"StoreLinks_spotify__QjCyP\")\n",
    "\n",
    "                    num_of_buttons = len(spotify_buttons) # get the number of songs\n",
    "                    print(\"number of songs in this episode :\",num_of_buttons)\n",
    "\n",
    "                    button_idx = 0\n",
    "                    # loop throguh each spotify button\n",
    "                    while button_idx < num_of_buttons:\n",
    "                        time.sleep(1)\n",
    "\n",
    "                        driver.execute_script(\"arguments[0].click();\", spotify_buttons[button_idx]) # click to spotify button\n",
    "                        \n",
    "                        # try to get the spotify tab\n",
    "                        try:\n",
    "                            spotify_song_tab = driver.window_handles[3]\n",
    "                        except Exception as e: # if you cant get the spotify tab, song is not in spotify\n",
    "                            print('song is not on spotify')\n",
    "                            button_idx += 1\n",
    "                            continue # continue with the next song\n",
    "\n",
    "                        driver.switch_to.window(spotify_song_tab) # switch to spotify tab\n",
    "                        \n",
    "                        # try to get the track id from the url\n",
    "                        try:\n",
    "                            song_track_id = driver.current_url.split('track/')[1] #get the track id\n",
    "                        # sometimes selenium throws an unknown error as \"unknown error: cannot determine loading status\"\n",
    "                        except Exception as e:\n",
    "                            print('can not add the song, try it again')\n",
    "                            driver.close() # close the spotify page\n",
    "                            time.sleep(1)\n",
    "                            driver.switch_to.window(episode_tab) # switch to episode tab again, dont increment the button counter becuase we will try to add this song again\n",
    "                            continue\n",
    "\n",
    "\n",
    "                        df = df.append({'series_name' : series_name, 'track_id' : song_track_id},ignore_index = True) # add the track id and corresponding tv series name to dataframe\n",
    "                        print(song_track_id,\"is added.\")\n",
    "\n",
    "                        button_idx += 1\n",
    "\n",
    "                        driver.close() # close the song tab\n",
    "                        #time.sleep(1) \n",
    "                        driver.switch_to.window(episode_tab) # swtich to episode tab\n",
    "\n",
    "\n",
    "                    driver.close() # close the episode tab\n",
    "                    #time.sleep(1)\n",
    "                    driver.switch_to.window(season_tab) # switch to season tab\n",
    "\n",
    "                except: # this means it is not episode continue with the next div\n",
    "                    print(\"it is not an episode.\")\n",
    "                    continue\n",
    "\n",
    "            file_name = f\"data_2/{series_name}_{idx + 1 - not_season_counter}.csv\"\n",
    "            df.to_csv(file_name) # save the dataframe for the season\n",
    "\n",
    "            driver.close() # close the season tab\n",
    "            driver.switch_to.window(all_seasons_tab) # switch to all season tab\n",
    "    \n",
    "    driver.close()"
   ]
  },
  {
   "cell_type": "code",
   "execution_count": 4,
   "id": "d1db61ba",
   "metadata": {},
   "outputs": [
    {
     "name": "stderr",
     "output_type": "stream",
     "text": [
      "C:\\Users\\Omer\\AppData\\Local\\Temp\\ipykernel_18680\\2248095568.py:8: DeprecationWarning: executable_path has been deprecated, please pass in a Service object\n",
      "  driver = webdriver.Chrome(driver_path,options=c)\n"
     ]
    },
    {
     "name": "stdout",
     "output_type": "stream",
     "text": [
      "Vikings\n",
      "number of songs in this episode : 11\n"
     ]
    },
    {
     "name": "stderr",
     "output_type": "stream",
     "text": [
      "C:\\Users\\Omer\\AppData\\Local\\Temp\\ipykernel_18680\\2248095568.py:112: FutureWarning: The frame.append method is deprecated and will be removed from pandas in a future version. Use pandas.concat instead.\n",
      "  df = df.append({'series_name' : series_name, 'track_id' : song_track_id},ignore_index = True) # add the track id and corresponding tv series name to dataframe\n"
     ]
    },
    {
     "name": "stdout",
     "output_type": "stream",
     "text": [
      "1we2UifyzGe2tgvTVFTwD4 is added.\n"
     ]
    },
    {
     "name": "stderr",
     "output_type": "stream",
     "text": [
      "C:\\Users\\Omer\\AppData\\Local\\Temp\\ipykernel_18680\\2248095568.py:112: FutureWarning: The frame.append method is deprecated and will be removed from pandas in a future version. Use pandas.concat instead.\n",
      "  df = df.append({'series_name' : series_name, 'track_id' : song_track_id},ignore_index = True) # add the track id and corresponding tv series name to dataframe\n"
     ]
    },
    {
     "name": "stdout",
     "output_type": "stream",
     "text": [
      "6PBm9o14MNKFaLgHfRYiea is added.\n"
     ]
    },
    {
     "name": "stderr",
     "output_type": "stream",
     "text": [
      "C:\\Users\\Omer\\AppData\\Local\\Temp\\ipykernel_18680\\2248095568.py:112: FutureWarning: The frame.append method is deprecated and will be removed from pandas in a future version. Use pandas.concat instead.\n",
      "  df = df.append({'series_name' : series_name, 'track_id' : song_track_id},ignore_index = True) # add the track id and corresponding tv series name to dataframe\n"
     ]
    },
    {
     "name": "stdout",
     "output_type": "stream",
     "text": [
      "3JosKONEoCuQd1nUlKYeO7 is added.\n"
     ]
    },
    {
     "name": "stderr",
     "output_type": "stream",
     "text": [
      "C:\\Users\\Omer\\AppData\\Local\\Temp\\ipykernel_18680\\2248095568.py:112: FutureWarning: The frame.append method is deprecated and will be removed from pandas in a future version. Use pandas.concat instead.\n",
      "  df = df.append({'series_name' : series_name, 'track_id' : song_track_id},ignore_index = True) # add the track id and corresponding tv series name to dataframe\n"
     ]
    },
    {
     "name": "stdout",
     "output_type": "stream",
     "text": [
      "5te64W0y3c0ZIVR0UMiwYT is added.\n"
     ]
    },
    {
     "name": "stderr",
     "output_type": "stream",
     "text": [
      "C:\\Users\\Omer\\AppData\\Local\\Temp\\ipykernel_18680\\2248095568.py:112: FutureWarning: The frame.append method is deprecated and will be removed from pandas in a future version. Use pandas.concat instead.\n",
      "  df = df.append({'series_name' : series_name, 'track_id' : song_track_id},ignore_index = True) # add the track id and corresponding tv series name to dataframe\n"
     ]
    },
    {
     "name": "stdout",
     "output_type": "stream",
     "text": [
      "7xuzxh9Cg8cMHa4wlznV02 is added.\n"
     ]
    },
    {
     "name": "stderr",
     "output_type": "stream",
     "text": [
      "C:\\Users\\Omer\\AppData\\Local\\Temp\\ipykernel_18680\\2248095568.py:112: FutureWarning: The frame.append method is deprecated and will be removed from pandas in a future version. Use pandas.concat instead.\n",
      "  df = df.append({'series_name' : series_name, 'track_id' : song_track_id},ignore_index = True) # add the track id and corresponding tv series name to dataframe\n"
     ]
    },
    {
     "name": "stdout",
     "output_type": "stream",
     "text": [
      "05ztO5zNCLATon3gWWg6rJ is added.\n"
     ]
    },
    {
     "name": "stderr",
     "output_type": "stream",
     "text": [
      "C:\\Users\\Omer\\AppData\\Local\\Temp\\ipykernel_18680\\2248095568.py:112: FutureWarning: The frame.append method is deprecated and will be removed from pandas in a future version. Use pandas.concat instead.\n",
      "  df = df.append({'series_name' : series_name, 'track_id' : song_track_id},ignore_index = True) # add the track id and corresponding tv series name to dataframe\n"
     ]
    },
    {
     "name": "stdout",
     "output_type": "stream",
     "text": [
      "2AeAAJLlHFlNGfFmFXoJ9c is added.\n"
     ]
    },
    {
     "name": "stderr",
     "output_type": "stream",
     "text": [
      "C:\\Users\\Omer\\AppData\\Local\\Temp\\ipykernel_18680\\2248095568.py:112: FutureWarning: The frame.append method is deprecated and will be removed from pandas in a future version. Use pandas.concat instead.\n",
      "  df = df.append({'series_name' : series_name, 'track_id' : song_track_id},ignore_index = True) # add the track id and corresponding tv series name to dataframe\n"
     ]
    },
    {
     "name": "stdout",
     "output_type": "stream",
     "text": [
      "7IGpb976DFZ3cHoDv7EGS4 is added.\n"
     ]
    },
    {
     "name": "stderr",
     "output_type": "stream",
     "text": [
      "C:\\Users\\Omer\\AppData\\Local\\Temp\\ipykernel_18680\\2248095568.py:112: FutureWarning: The frame.append method is deprecated and will be removed from pandas in a future version. Use pandas.concat instead.\n",
      "  df = df.append({'series_name' : series_name, 'track_id' : song_track_id},ignore_index = True) # add the track id and corresponding tv series name to dataframe\n"
     ]
    },
    {
     "name": "stdout",
     "output_type": "stream",
     "text": [
      "5WrD3CKBqjpkz8ngxNEaF2 is added.\n"
     ]
    },
    {
     "name": "stderr",
     "output_type": "stream",
     "text": [
      "C:\\Users\\Omer\\AppData\\Local\\Temp\\ipykernel_18680\\2248095568.py:112: FutureWarning: The frame.append method is deprecated and will be removed from pandas in a future version. Use pandas.concat instead.\n",
      "  df = df.append({'series_name' : series_name, 'track_id' : song_track_id},ignore_index = True) # add the track id and corresponding tv series name to dataframe\n"
     ]
    },
    {
     "name": "stdout",
     "output_type": "stream",
     "text": [
      "0QaFbGRALtsnrIb4rcyxuj is added.\n"
     ]
    },
    {
     "name": "stderr",
     "output_type": "stream",
     "text": [
      "C:\\Users\\Omer\\AppData\\Local\\Temp\\ipykernel_18680\\2248095568.py:112: FutureWarning: The frame.append method is deprecated and will be removed from pandas in a future version. Use pandas.concat instead.\n",
      "  df = df.append({'series_name' : series_name, 'track_id' : song_track_id},ignore_index = True) # add the track id and corresponding tv series name to dataframe\n"
     ]
    },
    {
     "name": "stdout",
     "output_type": "stream",
     "text": [
      "5dqkWcU5tTlkkWrOl5ExUz is added.\n",
      "number of songs in this episode : 8\n"
     ]
    },
    {
     "name": "stderr",
     "output_type": "stream",
     "text": [
      "C:\\Users\\Omer\\AppData\\Local\\Temp\\ipykernel_18680\\2248095568.py:112: FutureWarning: The frame.append method is deprecated and will be removed from pandas in a future version. Use pandas.concat instead.\n",
      "  df = df.append({'series_name' : series_name, 'track_id' : song_track_id},ignore_index = True) # add the track id and corresponding tv series name to dataframe\n"
     ]
    },
    {
     "name": "stdout",
     "output_type": "stream",
     "text": [
      "5dqkWcU5tTlkkWrOl5ExUz is added.\n"
     ]
    },
    {
     "name": "stderr",
     "output_type": "stream",
     "text": [
      "C:\\Users\\Omer\\AppData\\Local\\Temp\\ipykernel_18680\\2248095568.py:112: FutureWarning: The frame.append method is deprecated and will be removed from pandas in a future version. Use pandas.concat instead.\n",
      "  df = df.append({'series_name' : series_name, 'track_id' : song_track_id},ignore_index = True) # add the track id and corresponding tv series name to dataframe\n"
     ]
    },
    {
     "name": "stdout",
     "output_type": "stream",
     "text": [
      "2m9S2yZlwMGk7UOTpT1L7K is added.\n"
     ]
    },
    {
     "name": "stderr",
     "output_type": "stream",
     "text": [
      "C:\\Users\\Omer\\AppData\\Local\\Temp\\ipykernel_18680\\2248095568.py:112: FutureWarning: The frame.append method is deprecated and will be removed from pandas in a future version. Use pandas.concat instead.\n",
      "  df = df.append({'series_name' : series_name, 'track_id' : song_track_id},ignore_index = True) # add the track id and corresponding tv series name to dataframe\n"
     ]
    },
    {
     "name": "stdout",
     "output_type": "stream",
     "text": [
      "20FSiMoMoqjqUEICYrIayO is added.\n"
     ]
    },
    {
     "name": "stderr",
     "output_type": "stream",
     "text": [
      "C:\\Users\\Omer\\AppData\\Local\\Temp\\ipykernel_18680\\2248095568.py:112: FutureWarning: The frame.append method is deprecated and will be removed from pandas in a future version. Use pandas.concat instead.\n",
      "  df = df.append({'series_name' : series_name, 'track_id' : song_track_id},ignore_index = True) # add the track id and corresponding tv series name to dataframe\n"
     ]
    },
    {
     "name": "stdout",
     "output_type": "stream",
     "text": [
      "2TGLch5zx0Mt4eFUlssRTB is added.\n"
     ]
    },
    {
     "name": "stderr",
     "output_type": "stream",
     "text": [
      "C:\\Users\\Omer\\AppData\\Local\\Temp\\ipykernel_18680\\2248095568.py:112: FutureWarning: The frame.append method is deprecated and will be removed from pandas in a future version. Use pandas.concat instead.\n",
      "  df = df.append({'series_name' : series_name, 'track_id' : song_track_id},ignore_index = True) # add the track id and corresponding tv series name to dataframe\n"
     ]
    },
    {
     "name": "stdout",
     "output_type": "stream",
     "text": [
      "2sjdQ49qesb7dK7atnaGOy is added.\n"
     ]
    },
    {
     "name": "stderr",
     "output_type": "stream",
     "text": [
      "C:\\Users\\Omer\\AppData\\Local\\Temp\\ipykernel_18680\\2248095568.py:112: FutureWarning: The frame.append method is deprecated and will be removed from pandas in a future version. Use pandas.concat instead.\n",
      "  df = df.append({'series_name' : series_name, 'track_id' : song_track_id},ignore_index = True) # add the track id and corresponding tv series name to dataframe\n"
     ]
    },
    {
     "name": "stdout",
     "output_type": "stream",
     "text": [
      "2Eq97bBBjO69pPrImrksOi is added.\n"
     ]
    },
    {
     "name": "stderr",
     "output_type": "stream",
     "text": [
      "C:\\Users\\Omer\\AppData\\Local\\Temp\\ipykernel_18680\\2248095568.py:112: FutureWarning: The frame.append method is deprecated and will be removed from pandas in a future version. Use pandas.concat instead.\n",
      "  df = df.append({'series_name' : series_name, 'track_id' : song_track_id},ignore_index = True) # add the track id and corresponding tv series name to dataframe\n"
     ]
    },
    {
     "name": "stdout",
     "output_type": "stream",
     "text": [
      "1VEuGt76pWrzR1RYMJtcCM is added.\n"
     ]
    },
    {
     "name": "stderr",
     "output_type": "stream",
     "text": [
      "C:\\Users\\Omer\\AppData\\Local\\Temp\\ipykernel_18680\\2248095568.py:112: FutureWarning: The frame.append method is deprecated and will be removed from pandas in a future version. Use pandas.concat instead.\n",
      "  df = df.append({'series_name' : series_name, 'track_id' : song_track_id},ignore_index = True) # add the track id and corresponding tv series name to dataframe\n"
     ]
    },
    {
     "name": "stdout",
     "output_type": "stream",
     "text": [
      "3ibDLCP1dhzSIIx3LDeilm is added.\n",
      "it is not an episode.\n",
      "There is no song in this episode.\n",
      "number of songs in this episode : 3\n"
     ]
    },
    {
     "name": "stderr",
     "output_type": "stream",
     "text": [
      "C:\\Users\\Omer\\AppData\\Local\\Temp\\ipykernel_18680\\2248095568.py:112: FutureWarning: The frame.append method is deprecated and will be removed from pandas in a future version. Use pandas.concat instead.\n",
      "  df = df.append({'series_name' : series_name, 'track_id' : song_track_id},ignore_index = True) # add the track id and corresponding tv series name to dataframe\n"
     ]
    },
    {
     "name": "stdout",
     "output_type": "stream",
     "text": [
      "6AgshNwXd7tOThYpzAXzcl is added.\n"
     ]
    },
    {
     "name": "stderr",
     "output_type": "stream",
     "text": [
      "C:\\Users\\Omer\\AppData\\Local\\Temp\\ipykernel_18680\\2248095568.py:112: FutureWarning: The frame.append method is deprecated and will be removed from pandas in a future version. Use pandas.concat instead.\n",
      "  df = df.append({'series_name' : series_name, 'track_id' : song_track_id},ignore_index = True) # add the track id and corresponding tv series name to dataframe\n"
     ]
    },
    {
     "name": "stdout",
     "output_type": "stream",
     "text": [
      "4TlTfxBpAAsnHSdKJQtqAZ is added.\n"
     ]
    },
    {
     "name": "stderr",
     "output_type": "stream",
     "text": [
      "C:\\Users\\Omer\\AppData\\Local\\Temp\\ipykernel_18680\\2248095568.py:112: FutureWarning: The frame.append method is deprecated and will be removed from pandas in a future version. Use pandas.concat instead.\n",
      "  df = df.append({'series_name' : series_name, 'track_id' : song_track_id},ignore_index = True) # add the track id and corresponding tv series name to dataframe\n"
     ]
    },
    {
     "name": "stdout",
     "output_type": "stream",
     "text": [
      "4A5C30MCiRDab8styuXwIa is added.\n",
      "number of songs in this episode : 1\n"
     ]
    },
    {
     "name": "stderr",
     "output_type": "stream",
     "text": [
      "C:\\Users\\Omer\\AppData\\Local\\Temp\\ipykernel_18680\\2248095568.py:112: FutureWarning: The frame.append method is deprecated and will be removed from pandas in a future version. Use pandas.concat instead.\n",
      "  df = df.append({'series_name' : series_name, 'track_id' : song_track_id},ignore_index = True) # add the track id and corresponding tv series name to dataframe\n"
     ]
    },
    {
     "name": "stdout",
     "output_type": "stream",
     "text": [
      "6AgshNwXd7tOThYpzAXzcl is added.\n",
      "number of songs in this episode : 4\n"
     ]
    },
    {
     "name": "stderr",
     "output_type": "stream",
     "text": [
      "C:\\Users\\Omer\\AppData\\Local\\Temp\\ipykernel_18680\\2248095568.py:112: FutureWarning: The frame.append method is deprecated and will be removed from pandas in a future version. Use pandas.concat instead.\n",
      "  df = df.append({'series_name' : series_name, 'track_id' : song_track_id},ignore_index = True) # add the track id and corresponding tv series name to dataframe\n"
     ]
    },
    {
     "name": "stdout",
     "output_type": "stream",
     "text": [
      "05727j52vQEg7cgaM9s7IA is added.\n"
     ]
    },
    {
     "name": "stderr",
     "output_type": "stream",
     "text": [
      "C:\\Users\\Omer\\AppData\\Local\\Temp\\ipykernel_18680\\2248095568.py:112: FutureWarning: The frame.append method is deprecated and will be removed from pandas in a future version. Use pandas.concat instead.\n",
      "  df = df.append({'series_name' : series_name, 'track_id' : song_track_id},ignore_index = True) # add the track id and corresponding tv series name to dataframe\n"
     ]
    },
    {
     "name": "stdout",
     "output_type": "stream",
     "text": [
      "5OGeSNCcBhFuflw2u4R2jr is added.\n"
     ]
    },
    {
     "name": "stderr",
     "output_type": "stream",
     "text": [
      "C:\\Users\\Omer\\AppData\\Local\\Temp\\ipykernel_18680\\2248095568.py:112: FutureWarning: The frame.append method is deprecated and will be removed from pandas in a future version. Use pandas.concat instead.\n",
      "  df = df.append({'series_name' : series_name, 'track_id' : song_track_id},ignore_index = True) # add the track id and corresponding tv series name to dataframe\n"
     ]
    },
    {
     "name": "stdout",
     "output_type": "stream",
     "text": [
      "62RBQmwXF6gryLUvsHscN5 is added.\n"
     ]
    },
    {
     "name": "stderr",
     "output_type": "stream",
     "text": [
      "C:\\Users\\Omer\\AppData\\Local\\Temp\\ipykernel_18680\\2248095568.py:112: FutureWarning: The frame.append method is deprecated and will be removed from pandas in a future version. Use pandas.concat instead.\n",
      "  df = df.append({'series_name' : series_name, 'track_id' : song_track_id},ignore_index = True) # add the track id and corresponding tv series name to dataframe\n"
     ]
    },
    {
     "name": "stdout",
     "output_type": "stream",
     "text": [
      "3oeeALeaVWdYb7ZYBLau1F is added.\n",
      "number of songs in this episode : 3\n"
     ]
    },
    {
     "name": "stderr",
     "output_type": "stream",
     "text": [
      "C:\\Users\\Omer\\AppData\\Local\\Temp\\ipykernel_18680\\2248095568.py:112: FutureWarning: The frame.append method is deprecated and will be removed from pandas in a future version. Use pandas.concat instead.\n",
      "  df = df.append({'series_name' : series_name, 'track_id' : song_track_id},ignore_index = True) # add the track id and corresponding tv series name to dataframe\n"
     ]
    },
    {
     "name": "stdout",
     "output_type": "stream",
     "text": [
      "263Dz0OW3JdSMXi6KKTa7Q is added.\n"
     ]
    },
    {
     "name": "stderr",
     "output_type": "stream",
     "text": [
      "C:\\Users\\Omer\\AppData\\Local\\Temp\\ipykernel_18680\\2248095568.py:112: FutureWarning: The frame.append method is deprecated and will be removed from pandas in a future version. Use pandas.concat instead.\n",
      "  df = df.append({'series_name' : series_name, 'track_id' : song_track_id},ignore_index = True) # add the track id and corresponding tv series name to dataframe\n"
     ]
    },
    {
     "name": "stdout",
     "output_type": "stream",
     "text": [
      "75iEncMCKw6aZvUWyZqxO4 is added.\n"
     ]
    },
    {
     "name": "stderr",
     "output_type": "stream",
     "text": [
      "C:\\Users\\Omer\\AppData\\Local\\Temp\\ipykernel_18680\\2248095568.py:112: FutureWarning: The frame.append method is deprecated and will be removed from pandas in a future version. Use pandas.concat instead.\n",
      "  df = df.append({'series_name' : series_name, 'track_id' : song_track_id},ignore_index = True) # add the track id and corresponding tv series name to dataframe\n"
     ]
    },
    {
     "name": "stdout",
     "output_type": "stream",
     "text": [
      "4d1J2nBnD9EQa4nz9KWEjY is added.\n",
      "number of songs in this episode : 5\n"
     ]
    },
    {
     "name": "stderr",
     "output_type": "stream",
     "text": [
      "C:\\Users\\Omer\\AppData\\Local\\Temp\\ipykernel_18680\\2248095568.py:112: FutureWarning: The frame.append method is deprecated and will be removed from pandas in a future version. Use pandas.concat instead.\n",
      "  df = df.append({'series_name' : series_name, 'track_id' : song_track_id},ignore_index = True) # add the track id and corresponding tv series name to dataframe\n"
     ]
    },
    {
     "name": "stdout",
     "output_type": "stream",
     "text": [
      "4jIFpX1KPvP2iT40m8pCtW is added.\n"
     ]
    },
    {
     "name": "stderr",
     "output_type": "stream",
     "text": [
      "C:\\Users\\Omer\\AppData\\Local\\Temp\\ipykernel_18680\\2248095568.py:112: FutureWarning: The frame.append method is deprecated and will be removed from pandas in a future version. Use pandas.concat instead.\n",
      "  df = df.append({'series_name' : series_name, 'track_id' : song_track_id},ignore_index = True) # add the track id and corresponding tv series name to dataframe\n"
     ]
    },
    {
     "name": "stdout",
     "output_type": "stream",
     "text": [
      "0tg3vIohCYYngs9a6MWciR is added.\n"
     ]
    },
    {
     "name": "stderr",
     "output_type": "stream",
     "text": [
      "C:\\Users\\Omer\\AppData\\Local\\Temp\\ipykernel_18680\\2248095568.py:112: FutureWarning: The frame.append method is deprecated and will be removed from pandas in a future version. Use pandas.concat instead.\n",
      "  df = df.append({'series_name' : series_name, 'track_id' : song_track_id},ignore_index = True) # add the track id and corresponding tv series name to dataframe\n"
     ]
    },
    {
     "name": "stdout",
     "output_type": "stream",
     "text": [
      "39UD2bqF3B60HuNuwYKnv0 is added.\n"
     ]
    },
    {
     "name": "stderr",
     "output_type": "stream",
     "text": [
      "C:\\Users\\Omer\\AppData\\Local\\Temp\\ipykernel_18680\\2248095568.py:112: FutureWarning: The frame.append method is deprecated and will be removed from pandas in a future version. Use pandas.concat instead.\n",
      "  df = df.append({'series_name' : series_name, 'track_id' : song_track_id},ignore_index = True) # add the track id and corresponding tv series name to dataframe\n"
     ]
    },
    {
     "name": "stdout",
     "output_type": "stream",
     "text": [
      "3pBZxni2sXHhsEwDmWWlK8 is added.\n"
     ]
    },
    {
     "name": "stderr",
     "output_type": "stream",
     "text": [
      "C:\\Users\\Omer\\AppData\\Local\\Temp\\ipykernel_18680\\2248095568.py:112: FutureWarning: The frame.append method is deprecated and will be removed from pandas in a future version. Use pandas.concat instead.\n",
      "  df = df.append({'series_name' : series_name, 'track_id' : song_track_id},ignore_index = True) # add the track id and corresponding tv series name to dataframe\n"
     ]
    },
    {
     "name": "stdout",
     "output_type": "stream",
     "text": [
      "4rPm0aq2iHhTjm1cUqZFpv is added.\n",
      "number of songs in this episode : 6\n"
     ]
    },
    {
     "name": "stderr",
     "output_type": "stream",
     "text": [
      "C:\\Users\\Omer\\AppData\\Local\\Temp\\ipykernel_18680\\2248095568.py:112: FutureWarning: The frame.append method is deprecated and will be removed from pandas in a future version. Use pandas.concat instead.\n",
      "  df = df.append({'series_name' : series_name, 'track_id' : song_track_id},ignore_index = True) # add the track id and corresponding tv series name to dataframe\n"
     ]
    },
    {
     "name": "stdout",
     "output_type": "stream",
     "text": [
      "6n6MrrJkllDkZrUmPcZTSn is added.\n"
     ]
    },
    {
     "name": "stderr",
     "output_type": "stream",
     "text": [
      "C:\\Users\\Omer\\AppData\\Local\\Temp\\ipykernel_18680\\2248095568.py:112: FutureWarning: The frame.append method is deprecated and will be removed from pandas in a future version. Use pandas.concat instead.\n",
      "  df = df.append({'series_name' : series_name, 'track_id' : song_track_id},ignore_index = True) # add the track id and corresponding tv series name to dataframe\n"
     ]
    },
    {
     "name": "stdout",
     "output_type": "stream",
     "text": [
      "1wSvd0WxasZBNyADXEKmlm is added.\n"
     ]
    },
    {
     "name": "stderr",
     "output_type": "stream",
     "text": [
      "C:\\Users\\Omer\\AppData\\Local\\Temp\\ipykernel_18680\\2248095568.py:112: FutureWarning: The frame.append method is deprecated and will be removed from pandas in a future version. Use pandas.concat instead.\n",
      "  df = df.append({'series_name' : series_name, 'track_id' : song_track_id},ignore_index = True) # add the track id and corresponding tv series name to dataframe\n"
     ]
    },
    {
     "name": "stdout",
     "output_type": "stream",
     "text": [
      "3YdvEcGGWiFPuuFb3jFF3k is added.\n"
     ]
    },
    {
     "name": "stderr",
     "output_type": "stream",
     "text": [
      "C:\\Users\\Omer\\AppData\\Local\\Temp\\ipykernel_18680\\2248095568.py:112: FutureWarning: The frame.append method is deprecated and will be removed from pandas in a future version. Use pandas.concat instead.\n",
      "  df = df.append({'series_name' : series_name, 'track_id' : song_track_id},ignore_index = True) # add the track id and corresponding tv series name to dataframe\n"
     ]
    },
    {
     "name": "stdout",
     "output_type": "stream",
     "text": [
      "3WcqGVlwRrs6mKTpxpCUMT is added.\n"
     ]
    },
    {
     "name": "stderr",
     "output_type": "stream",
     "text": [
      "C:\\Users\\Omer\\AppData\\Local\\Temp\\ipykernel_18680\\2248095568.py:112: FutureWarning: The frame.append method is deprecated and will be removed from pandas in a future version. Use pandas.concat instead.\n",
      "  df = df.append({'series_name' : series_name, 'track_id' : song_track_id},ignore_index = True) # add the track id and corresponding tv series name to dataframe\n"
     ]
    },
    {
     "name": "stdout",
     "output_type": "stream",
     "text": [
      "4hqaxna0a0Zoplk9fVYZ0b is added.\n"
     ]
    },
    {
     "name": "stderr",
     "output_type": "stream",
     "text": [
      "C:\\Users\\Omer\\AppData\\Local\\Temp\\ipykernel_18680\\2248095568.py:112: FutureWarning: The frame.append method is deprecated and will be removed from pandas in a future version. Use pandas.concat instead.\n",
      "  df = df.append({'series_name' : series_name, 'track_id' : song_track_id},ignore_index = True) # add the track id and corresponding tv series name to dataframe\n"
     ]
    },
    {
     "name": "stdout",
     "output_type": "stream",
     "text": [
      "1bTN9VTnmJTVQEhpm9Jgm7 is added.\n",
      "number of songs in this episode : 6\n"
     ]
    },
    {
     "name": "stderr",
     "output_type": "stream",
     "text": [
      "C:\\Users\\Omer\\AppData\\Local\\Temp\\ipykernel_18680\\2248095568.py:112: FutureWarning: The frame.append method is deprecated and will be removed from pandas in a future version. Use pandas.concat instead.\n",
      "  df = df.append({'series_name' : series_name, 'track_id' : song_track_id},ignore_index = True) # add the track id and corresponding tv series name to dataframe\n"
     ]
    },
    {
     "name": "stdout",
     "output_type": "stream",
     "text": [
      "0NajgS0O02mYrBViKGwSOC is added.\n"
     ]
    },
    {
     "name": "stderr",
     "output_type": "stream",
     "text": [
      "C:\\Users\\Omer\\AppData\\Local\\Temp\\ipykernel_18680\\2248095568.py:112: FutureWarning: The frame.append method is deprecated and will be removed from pandas in a future version. Use pandas.concat instead.\n",
      "  df = df.append({'series_name' : series_name, 'track_id' : song_track_id},ignore_index = True) # add the track id and corresponding tv series name to dataframe\n"
     ]
    },
    {
     "name": "stdout",
     "output_type": "stream",
     "text": [
      "7cpGX27vJSrmpMmibCWBY6 is added.\n"
     ]
    },
    {
     "name": "stderr",
     "output_type": "stream",
     "text": [
      "C:\\Users\\Omer\\AppData\\Local\\Temp\\ipykernel_18680\\2248095568.py:112: FutureWarning: The frame.append method is deprecated and will be removed from pandas in a future version. Use pandas.concat instead.\n",
      "  df = df.append({'series_name' : series_name, 'track_id' : song_track_id},ignore_index = True) # add the track id and corresponding tv series name to dataframe\n"
     ]
    },
    {
     "name": "stdout",
     "output_type": "stream",
     "text": [
      "44RHbZnuSE02ThBUM11AcR is added.\n"
     ]
    },
    {
     "name": "stderr",
     "output_type": "stream",
     "text": [
      "C:\\Users\\Omer\\AppData\\Local\\Temp\\ipykernel_18680\\2248095568.py:112: FutureWarning: The frame.append method is deprecated and will be removed from pandas in a future version. Use pandas.concat instead.\n",
      "  df = df.append({'series_name' : series_name, 'track_id' : song_track_id},ignore_index = True) # add the track id and corresponding tv series name to dataframe\n"
     ]
    },
    {
     "name": "stdout",
     "output_type": "stream",
     "text": [
      "3fIjoSa0JVJt72Cfz5ZFK4 is added.\n"
     ]
    },
    {
     "name": "stderr",
     "output_type": "stream",
     "text": [
      "C:\\Users\\Omer\\AppData\\Local\\Temp\\ipykernel_18680\\2248095568.py:112: FutureWarning: The frame.append method is deprecated and will be removed from pandas in a future version. Use pandas.concat instead.\n",
      "  df = df.append({'series_name' : series_name, 'track_id' : song_track_id},ignore_index = True) # add the track id and corresponding tv series name to dataframe\n"
     ]
    },
    {
     "name": "stdout",
     "output_type": "stream",
     "text": [
      "63qMOQTUVOQFeU8fQnE3HC is added.\n"
     ]
    },
    {
     "name": "stderr",
     "output_type": "stream",
     "text": [
      "C:\\Users\\Omer\\AppData\\Local\\Temp\\ipykernel_18680\\2248095568.py:112: FutureWarning: The frame.append method is deprecated and will be removed from pandas in a future version. Use pandas.concat instead.\n",
      "  df = df.append({'series_name' : series_name, 'track_id' : song_track_id},ignore_index = True) # add the track id and corresponding tv series name to dataframe\n"
     ]
    },
    {
     "name": "stdout",
     "output_type": "stream",
     "text": [
      "6F1x0zldHMudETYjufleSP is added.\n",
      "number of songs in this episode : 2\n"
     ]
    },
    {
     "name": "stderr",
     "output_type": "stream",
     "text": [
      "C:\\Users\\Omer\\AppData\\Local\\Temp\\ipykernel_18680\\2248095568.py:112: FutureWarning: The frame.append method is deprecated and will be removed from pandas in a future version. Use pandas.concat instead.\n",
      "  df = df.append({'series_name' : series_name, 'track_id' : song_track_id},ignore_index = True) # add the track id and corresponding tv series name to dataframe\n"
     ]
    },
    {
     "name": "stdout",
     "output_type": "stream",
     "text": [
      "3YdvEcGGWiFPuuFb3jFF3k is added.\n",
      "can not add the song, try it again\n",
      "Message: unknown error: cannot determine loading status\n",
      "from unknown error: unexpected command response\n",
      "  (Session info: chrome=103.0.5060.114)\n",
      "Stacktrace:\n",
      "Backtrace:\n",
      "\tOrdinal0 [0x00486463+2188387]\n",
      "\tOrdinal0 [0x0041E461+1762401]\n",
      "\tOrdinal0 [0x00333D78+802168]\n",
      "\tOrdinal0 [0x00327210+750096]\n",
      "\tOrdinal0 [0x0032675A+747354]\n",
      "\tOrdinal0 [0x00325D3F+744767]\n",
      "\tOrdinal0 [0x00324C28+740392]\n",
      "\tOrdinal0 [0x00325228+741928]\n",
      "\tOrdinal0 [0x0032EF2F+782127]\n",
      "\tOrdinal0 [0x00339FBB+827323]\n",
      "\tOrdinal0 [0x0033D310+840464]\n",
      "\tOrdinal0 [0x003254F6+742646]\n",
      "\tOrdinal0 [0x00339BF3+826355]\n",
      "\tOrdinal0 [0x0038CB47+1166151]\n",
      "\tOrdinal0 [0x0037C5F6+1099254]\n",
      "\tOrdinal0 [0x00356BE0+945120]\n",
      "\tOrdinal0 [0x00357AD6+948950]\n",
      "\tGetHandleVerifier [0x007271F2+2712546]\n",
      "\tGetHandleVerifier [0x0071886D+2652765]\n",
      "\tGetHandleVerifier [0x0051002A+520730]\n",
      "\tGetHandleVerifier [0x0050EE06+516086]\n",
      "\tOrdinal0 [0x0042468B+1787531]\n",
      "\tOrdinal0 [0x00428E88+1805960]\n",
      "\tOrdinal0 [0x00428F75+1806197]\n",
      "\tOrdinal0 [0x00431DF1+1842673]\n",
      "\tBaseThreadInitThunk [0x75D7FA29+25]\n",
      "\tRtlGetAppContainerNamedObjectPath [0x77727A9E+286]\n",
      "\tRtlGetAppContainerNamedObjectPath [0x77727A6E+238]\n",
      "\n"
     ]
    },
    {
     "name": "stderr",
     "output_type": "stream",
     "text": [
      "C:\\Users\\Omer\\AppData\\Local\\Temp\\ipykernel_18680\\2248095568.py:112: FutureWarning: The frame.append method is deprecated and will be removed from pandas in a future version. Use pandas.concat instead.\n",
      "  df = df.append({'series_name' : series_name, 'track_id' : song_track_id},ignore_index = True) # add the track id and corresponding tv series name to dataframe\n"
     ]
    },
    {
     "name": "stdout",
     "output_type": "stream",
     "text": [
      "44RHbZnuSE02ThBUM11AcR is added.\n",
      "it is not an episode.\n",
      "number of songs in this episode : 1\n"
     ]
    },
    {
     "name": "stderr",
     "output_type": "stream",
     "text": [
      "C:\\Users\\Omer\\AppData\\Local\\Temp\\ipykernel_18680\\2248095568.py:112: FutureWarning: The frame.append method is deprecated and will be removed from pandas in a future version. Use pandas.concat instead.\n",
      "  df = df.append({'series_name' : series_name, 'track_id' : song_track_id},ignore_index = True) # add the track id and corresponding tv series name to dataframe\n"
     ]
    },
    {
     "name": "stdout",
     "output_type": "stream",
     "text": [
      "2h0mNl370jlNckT8PPx96H is added.\n",
      "number of songs in this episode : 4\n"
     ]
    },
    {
     "name": "stderr",
     "output_type": "stream",
     "text": [
      "C:\\Users\\Omer\\AppData\\Local\\Temp\\ipykernel_18680\\2248095568.py:112: FutureWarning: The frame.append method is deprecated and will be removed from pandas in a future version. Use pandas.concat instead.\n",
      "  df = df.append({'series_name' : series_name, 'track_id' : song_track_id},ignore_index = True) # add the track id and corresponding tv series name to dataframe\n"
     ]
    },
    {
     "name": "stdout",
     "output_type": "stream",
     "text": [
      "6tqpr1v1c2YxtCfQjuLVY4 is added.\n"
     ]
    },
    {
     "name": "stderr",
     "output_type": "stream",
     "text": [
      "C:\\Users\\Omer\\AppData\\Local\\Temp\\ipykernel_18680\\2248095568.py:112: FutureWarning: The frame.append method is deprecated and will be removed from pandas in a future version. Use pandas.concat instead.\n",
      "  df = df.append({'series_name' : series_name, 'track_id' : song_track_id},ignore_index = True) # add the track id and corresponding tv series name to dataframe\n"
     ]
    },
    {
     "name": "stdout",
     "output_type": "stream",
     "text": [
      "3e9eVB2gCbyNRRsqoBWh70 is added.\n"
     ]
    },
    {
     "name": "stderr",
     "output_type": "stream",
     "text": [
      "C:\\Users\\Omer\\AppData\\Local\\Temp\\ipykernel_18680\\2248095568.py:112: FutureWarning: The frame.append method is deprecated and will be removed from pandas in a future version. Use pandas.concat instead.\n",
      "  df = df.append({'series_name' : series_name, 'track_id' : song_track_id},ignore_index = True) # add the track id and corresponding tv series name to dataframe\n"
     ]
    },
    {
     "name": "stdout",
     "output_type": "stream",
     "text": [
      "27EL03l0hDhLJBoZJTjtHV is added.\n"
     ]
    },
    {
     "name": "stderr",
     "output_type": "stream",
     "text": [
      "C:\\Users\\Omer\\AppData\\Local\\Temp\\ipykernel_18680\\2248095568.py:112: FutureWarning: The frame.append method is deprecated and will be removed from pandas in a future version. Use pandas.concat instead.\n",
      "  df = df.append({'series_name' : series_name, 'track_id' : song_track_id},ignore_index = True) # add the track id and corresponding tv series name to dataframe\n"
     ]
    },
    {
     "name": "stdout",
     "output_type": "stream",
     "text": [
      "2XHmlr6R8nS0tSXNM3ueV5 is added.\n",
      "number of songs in this episode : 2\n"
     ]
    },
    {
     "name": "stderr",
     "output_type": "stream",
     "text": [
      "C:\\Users\\Omer\\AppData\\Local\\Temp\\ipykernel_18680\\2248095568.py:112: FutureWarning: The frame.append method is deprecated and will be removed from pandas in a future version. Use pandas.concat instead.\n",
      "  df = df.append({'series_name' : series_name, 'track_id' : song_track_id},ignore_index = True) # add the track id and corresponding tv series name to dataframe\n"
     ]
    },
    {
     "name": "stdout",
     "output_type": "stream",
     "text": [
      "3XixQtJAb2vFh08E0rsNwm is added.\n"
     ]
    },
    {
     "name": "stderr",
     "output_type": "stream",
     "text": [
      "C:\\Users\\Omer\\AppData\\Local\\Temp\\ipykernel_18680\\2248095568.py:112: FutureWarning: The frame.append method is deprecated and will be removed from pandas in a future version. Use pandas.concat instead.\n",
      "  df = df.append({'series_name' : series_name, 'track_id' : song_track_id},ignore_index = True) # add the track id and corresponding tv series name to dataframe\n"
     ]
    },
    {
     "name": "stdout",
     "output_type": "stream",
     "text": [
      "0tg3vIohCYYngs9a6MWciR is added.\n",
      "number of songs in this episode : 3\n"
     ]
    },
    {
     "name": "stderr",
     "output_type": "stream",
     "text": [
      "C:\\Users\\Omer\\AppData\\Local\\Temp\\ipykernel_18680\\2248095568.py:112: FutureWarning: The frame.append method is deprecated and will be removed from pandas in a future version. Use pandas.concat instead.\n",
      "  df = df.append({'series_name' : series_name, 'track_id' : song_track_id},ignore_index = True) # add the track id and corresponding tv series name to dataframe\n"
     ]
    },
    {
     "name": "stdout",
     "output_type": "stream",
     "text": [
      "5Nb1esFHRXhQRej3yXrYTe is added.\n"
     ]
    },
    {
     "name": "stderr",
     "output_type": "stream",
     "text": [
      "C:\\Users\\Omer\\AppData\\Local\\Temp\\ipykernel_18680\\2248095568.py:112: FutureWarning: The frame.append method is deprecated and will be removed from pandas in a future version. Use pandas.concat instead.\n",
      "  df = df.append({'series_name' : series_name, 'track_id' : song_track_id},ignore_index = True) # add the track id and corresponding tv series name to dataframe\n"
     ]
    },
    {
     "name": "stdout",
     "output_type": "stream",
     "text": [
      "4p2yFeWNG5hFdyYNctD3qD is added.\n"
     ]
    },
    {
     "name": "stderr",
     "output_type": "stream",
     "text": [
      "C:\\Users\\Omer\\AppData\\Local\\Temp\\ipykernel_18680\\2248095568.py:112: FutureWarning: The frame.append method is deprecated and will be removed from pandas in a future version. Use pandas.concat instead.\n",
      "  df = df.append({'series_name' : series_name, 'track_id' : song_track_id},ignore_index = True) # add the track id and corresponding tv series name to dataframe\n"
     ]
    },
    {
     "name": "stdout",
     "output_type": "stream",
     "text": [
      "6vOx6MRN5hmotMtbGxN5pw is added.\n",
      "number of songs in this episode : 7\n"
     ]
    },
    {
     "name": "stderr",
     "output_type": "stream",
     "text": [
      "C:\\Users\\Omer\\AppData\\Local\\Temp\\ipykernel_18680\\2248095568.py:112: FutureWarning: The frame.append method is deprecated and will be removed from pandas in a future version. Use pandas.concat instead.\n",
      "  df = df.append({'series_name' : series_name, 'track_id' : song_track_id},ignore_index = True) # add the track id and corresponding tv series name to dataframe\n"
     ]
    },
    {
     "name": "stdout",
     "output_type": "stream",
     "text": [
      "0tg3vIohCYYngs9a6MWciR is added.\n"
     ]
    },
    {
     "name": "stderr",
     "output_type": "stream",
     "text": [
      "C:\\Users\\Omer\\AppData\\Local\\Temp\\ipykernel_18680\\2248095568.py:112: FutureWarning: The frame.append method is deprecated and will be removed from pandas in a future version. Use pandas.concat instead.\n",
      "  df = df.append({'series_name' : series_name, 'track_id' : song_track_id},ignore_index = True) # add the track id and corresponding tv series name to dataframe\n"
     ]
    },
    {
     "name": "stdout",
     "output_type": "stream",
     "text": [
      "3OsEHXLj2p0ERAfQZjIwTm is added.\n"
     ]
    },
    {
     "name": "stderr",
     "output_type": "stream",
     "text": [
      "C:\\Users\\Omer\\AppData\\Local\\Temp\\ipykernel_18680\\2248095568.py:112: FutureWarning: The frame.append method is deprecated and will be removed from pandas in a future version. Use pandas.concat instead.\n",
      "  df = df.append({'series_name' : series_name, 'track_id' : song_track_id},ignore_index = True) # add the track id and corresponding tv series name to dataframe\n"
     ]
    },
    {
     "name": "stdout",
     "output_type": "stream",
     "text": [
      "6tqpr1v1c2YxtCfQjuLVY4 is added.\n"
     ]
    },
    {
     "name": "stderr",
     "output_type": "stream",
     "text": [
      "C:\\Users\\Omer\\AppData\\Local\\Temp\\ipykernel_18680\\2248095568.py:112: FutureWarning: The frame.append method is deprecated and will be removed from pandas in a future version. Use pandas.concat instead.\n",
      "  df = df.append({'series_name' : series_name, 'track_id' : song_track_id},ignore_index = True) # add the track id and corresponding tv series name to dataframe\n"
     ]
    },
    {
     "name": "stdout",
     "output_type": "stream",
     "text": [
      "6mGyDRVvmwKmujNUu2QIi7 is added.\n"
     ]
    },
    {
     "name": "stderr",
     "output_type": "stream",
     "text": [
      "C:\\Users\\Omer\\AppData\\Local\\Temp\\ipykernel_18680\\2248095568.py:112: FutureWarning: The frame.append method is deprecated and will be removed from pandas in a future version. Use pandas.concat instead.\n",
      "  df = df.append({'series_name' : series_name, 'track_id' : song_track_id},ignore_index = True) # add the track id and corresponding tv series name to dataframe\n"
     ]
    },
    {
     "name": "stdout",
     "output_type": "stream",
     "text": [
      "3TEHaGREmft4lec2TrcR8C is added.\n"
     ]
    },
    {
     "name": "stderr",
     "output_type": "stream",
     "text": [
      "C:\\Users\\Omer\\AppData\\Local\\Temp\\ipykernel_18680\\2248095568.py:112: FutureWarning: The frame.append method is deprecated and will be removed from pandas in a future version. Use pandas.concat instead.\n",
      "  df = df.append({'series_name' : series_name, 'track_id' : song_track_id},ignore_index = True) # add the track id and corresponding tv series name to dataframe\n"
     ]
    },
    {
     "name": "stdout",
     "output_type": "stream",
     "text": [
      "73FVL99giEPEaiekF3wK5S is added.\n",
      "song is not on spotify\n",
      "number of songs in this episode : 6\n"
     ]
    },
    {
     "name": "stderr",
     "output_type": "stream",
     "text": [
      "C:\\Users\\Omer\\AppData\\Local\\Temp\\ipykernel_18680\\2248095568.py:112: FutureWarning: The frame.append method is deprecated and will be removed from pandas in a future version. Use pandas.concat instead.\n",
      "  df = df.append({'series_name' : series_name, 'track_id' : song_track_id},ignore_index = True) # add the track id and corresponding tv series name to dataframe\n"
     ]
    },
    {
     "name": "stdout",
     "output_type": "stream",
     "text": [
      "3TEHaGREmft4lec2TrcR8C is added.\n"
     ]
    },
    {
     "name": "stderr",
     "output_type": "stream",
     "text": [
      "C:\\Users\\Omer\\AppData\\Local\\Temp\\ipykernel_18680\\2248095568.py:112: FutureWarning: The frame.append method is deprecated and will be removed from pandas in a future version. Use pandas.concat instead.\n",
      "  df = df.append({'series_name' : series_name, 'track_id' : song_track_id},ignore_index = True) # add the track id and corresponding tv series name to dataframe\n"
     ]
    },
    {
     "name": "stdout",
     "output_type": "stream",
     "text": [
      "3OsEHXLj2p0ERAfQZjIwTm is added.\n"
     ]
    },
    {
     "name": "stderr",
     "output_type": "stream",
     "text": [
      "C:\\Users\\Omer\\AppData\\Local\\Temp\\ipykernel_18680\\2248095568.py:112: FutureWarning: The frame.append method is deprecated and will be removed from pandas in a future version. Use pandas.concat instead.\n",
      "  df = df.append({'series_name' : series_name, 'track_id' : song_track_id},ignore_index = True) # add the track id and corresponding tv series name to dataframe\n"
     ]
    },
    {
     "name": "stdout",
     "output_type": "stream",
     "text": [
      "73FVL99giEPEaiekF3wK5S is added.\n"
     ]
    },
    {
     "name": "stderr",
     "output_type": "stream",
     "text": [
      "C:\\Users\\Omer\\AppData\\Local\\Temp\\ipykernel_18680\\2248095568.py:112: FutureWarning: The frame.append method is deprecated and will be removed from pandas in a future version. Use pandas.concat instead.\n",
      "  df = df.append({'series_name' : series_name, 'track_id' : song_track_id},ignore_index = True) # add the track id and corresponding tv series name to dataframe\n"
     ]
    },
    {
     "name": "stdout",
     "output_type": "stream",
     "text": [
      "1FrKb7wPoi03G2DBKAc7kR is added.\n"
     ]
    },
    {
     "name": "stderr",
     "output_type": "stream",
     "text": [
      "C:\\Users\\Omer\\AppData\\Local\\Temp\\ipykernel_18680\\2248095568.py:112: FutureWarning: The frame.append method is deprecated and will be removed from pandas in a future version. Use pandas.concat instead.\n",
      "  df = df.append({'series_name' : series_name, 'track_id' : song_track_id},ignore_index = True) # add the track id and corresponding tv series name to dataframe\n"
     ]
    },
    {
     "name": "stdout",
     "output_type": "stream",
     "text": [
      "5QlN7BOuhNlojIf605ta3o is added.\n"
     ]
    },
    {
     "name": "stderr",
     "output_type": "stream",
     "text": [
      "C:\\Users\\Omer\\AppData\\Local\\Temp\\ipykernel_18680\\2248095568.py:112: FutureWarning: The frame.append method is deprecated and will be removed from pandas in a future version. Use pandas.concat instead.\n",
      "  df = df.append({'series_name' : series_name, 'track_id' : song_track_id},ignore_index = True) # add the track id and corresponding tv series name to dataframe\n"
     ]
    },
    {
     "name": "stdout",
     "output_type": "stream",
     "text": [
      "62m3Pwt9VJaKBtXnwdp2dV is added.\n",
      "it is not an episode.\n",
      "number of songs in this episode : 7\n"
     ]
    },
    {
     "name": "stderr",
     "output_type": "stream",
     "text": [
      "C:\\Users\\Omer\\AppData\\Local\\Temp\\ipykernel_18680\\2248095568.py:112: FutureWarning: The frame.append method is deprecated and will be removed from pandas in a future version. Use pandas.concat instead.\n",
      "  df = df.append({'series_name' : series_name, 'track_id' : song_track_id},ignore_index = True) # add the track id and corresponding tv series name to dataframe\n"
     ]
    },
    {
     "name": "stdout",
     "output_type": "stream",
     "text": [
      "4XJ8M0PI8mXmYUA5JabSKc is added.\n"
     ]
    },
    {
     "name": "stderr",
     "output_type": "stream",
     "text": [
      "C:\\Users\\Omer\\AppData\\Local\\Temp\\ipykernel_18680\\2248095568.py:112: FutureWarning: The frame.append method is deprecated and will be removed from pandas in a future version. Use pandas.concat instead.\n",
      "  df = df.append({'series_name' : series_name, 'track_id' : song_track_id},ignore_index = True) # add the track id and corresponding tv series name to dataframe\n"
     ]
    },
    {
     "name": "stdout",
     "output_type": "stream",
     "text": [
      "3XixQtJAb2vFh08E0rsNwm is added.\n"
     ]
    },
    {
     "name": "stderr",
     "output_type": "stream",
     "text": [
      "C:\\Users\\Omer\\AppData\\Local\\Temp\\ipykernel_18680\\2248095568.py:112: FutureWarning: The frame.append method is deprecated and will be removed from pandas in a future version. Use pandas.concat instead.\n",
      "  df = df.append({'series_name' : series_name, 'track_id' : song_track_id},ignore_index = True) # add the track id and corresponding tv series name to dataframe\n"
     ]
    },
    {
     "name": "stdout",
     "output_type": "stream",
     "text": [
      "3yVBH1Jr6wFaO5caQzl71b is added.\n"
     ]
    },
    {
     "name": "stderr",
     "output_type": "stream",
     "text": [
      "C:\\Users\\Omer\\AppData\\Local\\Temp\\ipykernel_18680\\2248095568.py:112: FutureWarning: The frame.append method is deprecated and will be removed from pandas in a future version. Use pandas.concat instead.\n",
      "  df = df.append({'series_name' : series_name, 'track_id' : song_track_id},ignore_index = True) # add the track id and corresponding tv series name to dataframe\n"
     ]
    },
    {
     "name": "stdout",
     "output_type": "stream",
     "text": [
      "7o0BkDX9mhPpJxp4UiVjfP is added.\n"
     ]
    },
    {
     "name": "stderr",
     "output_type": "stream",
     "text": [
      "C:\\Users\\Omer\\AppData\\Local\\Temp\\ipykernel_18680\\2248095568.py:112: FutureWarning: The frame.append method is deprecated and will be removed from pandas in a future version. Use pandas.concat instead.\n",
      "  df = df.append({'series_name' : series_name, 'track_id' : song_track_id},ignore_index = True) # add the track id and corresponding tv series name to dataframe\n"
     ]
    },
    {
     "name": "stdout",
     "output_type": "stream",
     "text": [
      "4U9XLDBWFs5pGG0jHRzJM9 is added.\n"
     ]
    },
    {
     "name": "stderr",
     "output_type": "stream",
     "text": [
      "C:\\Users\\Omer\\AppData\\Local\\Temp\\ipykernel_18680\\2248095568.py:112: FutureWarning: The frame.append method is deprecated and will be removed from pandas in a future version. Use pandas.concat instead.\n",
      "  df = df.append({'series_name' : series_name, 'track_id' : song_track_id},ignore_index = True) # add the track id and corresponding tv series name to dataframe\n"
     ]
    },
    {
     "name": "stdout",
     "output_type": "stream",
     "text": [
      "2colf6i00GX813PGN5NMCV is added.\n"
     ]
    },
    {
     "name": "stderr",
     "output_type": "stream",
     "text": [
      "C:\\Users\\Omer\\AppData\\Local\\Temp\\ipykernel_18680\\2248095568.py:112: FutureWarning: The frame.append method is deprecated and will be removed from pandas in a future version. Use pandas.concat instead.\n",
      "  df = df.append({'series_name' : series_name, 'track_id' : song_track_id},ignore_index = True) # add the track id and corresponding tv series name to dataframe\n"
     ]
    },
    {
     "name": "stdout",
     "output_type": "stream",
     "text": [
      "76j81CStEBfScSxkIxaF5A is added.\n",
      "number of songs in this episode : 11\n"
     ]
    },
    {
     "name": "stderr",
     "output_type": "stream",
     "text": [
      "C:\\Users\\Omer\\AppData\\Local\\Temp\\ipykernel_18680\\2248095568.py:112: FutureWarning: The frame.append method is deprecated and will be removed from pandas in a future version. Use pandas.concat instead.\n",
      "  df = df.append({'series_name' : series_name, 'track_id' : song_track_id},ignore_index = True) # add the track id and corresponding tv series name to dataframe\n"
     ]
    },
    {
     "name": "stdout",
     "output_type": "stream",
     "text": [
      "4p2yFeWNG5hFdyYNctD3qD is added.\n"
     ]
    },
    {
     "name": "stderr",
     "output_type": "stream",
     "text": [
      "C:\\Users\\Omer\\AppData\\Local\\Temp\\ipykernel_18680\\2248095568.py:112: FutureWarning: The frame.append method is deprecated and will be removed from pandas in a future version. Use pandas.concat instead.\n",
      "  df = df.append({'series_name' : series_name, 'track_id' : song_track_id},ignore_index = True) # add the track id and corresponding tv series name to dataframe\n"
     ]
    },
    {
     "name": "stdout",
     "output_type": "stream",
     "text": [
      "5Mmz9kXPi8ltQ0fvWGiJK3 is added.\n"
     ]
    },
    {
     "name": "stderr",
     "output_type": "stream",
     "text": [
      "C:\\Users\\Omer\\AppData\\Local\\Temp\\ipykernel_18680\\2248095568.py:112: FutureWarning: The frame.append method is deprecated and will be removed from pandas in a future version. Use pandas.concat instead.\n",
      "  df = df.append({'series_name' : series_name, 'track_id' : song_track_id},ignore_index = True) # add the track id and corresponding tv series name to dataframe\n"
     ]
    },
    {
     "name": "stdout",
     "output_type": "stream",
     "text": [
      "73FVL99giEPEaiekF3wK5S is added.\n",
      "can not add the song, try it again\n",
      "Message: unknown error: cannot determine loading status\n",
      "from unknown error: unexpected command response\n",
      "  (Session info: chrome=103.0.5060.114)\n",
      "Stacktrace:\n",
      "Backtrace:\n",
      "\tOrdinal0 [0x00486463+2188387]\n",
      "\tOrdinal0 [0x0041E461+1762401]\n",
      "\tOrdinal0 [0x00333D78+802168]\n",
      "\tOrdinal0 [0x00327210+750096]\n",
      "\tOrdinal0 [0x0032675A+747354]\n",
      "\tOrdinal0 [0x00325D3F+744767]\n",
      "\tOrdinal0 [0x00324C28+740392]\n",
      "\tOrdinal0 [0x00325228+741928]\n",
      "\tOrdinal0 [0x0032EF2F+782127]\n",
      "\tOrdinal0 [0x00339FBB+827323]\n",
      "\tOrdinal0 [0x0033D310+840464]\n",
      "\tOrdinal0 [0x003254F6+742646]\n",
      "\tOrdinal0 [0x00339BF3+826355]\n",
      "\tOrdinal0 [0x0038CB47+1166151]\n",
      "\tOrdinal0 [0x0037C5F6+1099254]\n",
      "\tOrdinal0 [0x00356BE0+945120]\n",
      "\tOrdinal0 [0x00357AD6+948950]\n",
      "\tGetHandleVerifier [0x007271F2+2712546]\n",
      "\tGetHandleVerifier [0x0071886D+2652765]\n",
      "\tGetHandleVerifier [0x0051002A+520730]\n",
      "\tGetHandleVerifier [0x0050EE06+516086]\n",
      "\tOrdinal0 [0x0042468B+1787531]\n",
      "\tOrdinal0 [0x00428E88+1805960]\n",
      "\tOrdinal0 [0x00428F75+1806197]\n",
      "\tOrdinal0 [0x00431DF1+1842673]\n",
      "\tBaseThreadInitThunk [0x75D7FA29+25]\n",
      "\tRtlGetAppContainerNamedObjectPath [0x77727A9E+286]\n",
      "\tRtlGetAppContainerNamedObjectPath [0x77727A6E+238]\n",
      "\n"
     ]
    },
    {
     "name": "stderr",
     "output_type": "stream",
     "text": [
      "C:\\Users\\Omer\\AppData\\Local\\Temp\\ipykernel_18680\\2248095568.py:112: FutureWarning: The frame.append method is deprecated and will be removed from pandas in a future version. Use pandas.concat instead.\n",
      "  df = df.append({'series_name' : series_name, 'track_id' : song_track_id},ignore_index = True) # add the track id and corresponding tv series name to dataframe\n"
     ]
    },
    {
     "name": "stdout",
     "output_type": "stream",
     "text": [
      "34NtuNvasrOiARwM8HSIuq is added.\n"
     ]
    },
    {
     "name": "stderr",
     "output_type": "stream",
     "text": [
      "C:\\Users\\Omer\\AppData\\Local\\Temp\\ipykernel_18680\\2248095568.py:112: FutureWarning: The frame.append method is deprecated and will be removed from pandas in a future version. Use pandas.concat instead.\n",
      "  df = df.append({'series_name' : series_name, 'track_id' : song_track_id},ignore_index = True) # add the track id and corresponding tv series name to dataframe\n"
     ]
    },
    {
     "name": "stdout",
     "output_type": "stream",
     "text": [
      "4sBV6UHmQXtr3V3xjVwPJi is added.\n"
     ]
    },
    {
     "name": "stderr",
     "output_type": "stream",
     "text": [
      "C:\\Users\\Omer\\AppData\\Local\\Temp\\ipykernel_18680\\2248095568.py:112: FutureWarning: The frame.append method is deprecated and will be removed from pandas in a future version. Use pandas.concat instead.\n",
      "  df = df.append({'series_name' : series_name, 'track_id' : song_track_id},ignore_index = True) # add the track id and corresponding tv series name to dataframe\n"
     ]
    },
    {
     "name": "stdout",
     "output_type": "stream",
     "text": [
      "2SSoIGHPYTvRo3Jup819pf is added.\n"
     ]
    },
    {
     "name": "stderr",
     "output_type": "stream",
     "text": [
      "C:\\Users\\Omer\\AppData\\Local\\Temp\\ipykernel_18680\\2248095568.py:112: FutureWarning: The frame.append method is deprecated and will be removed from pandas in a future version. Use pandas.concat instead.\n",
      "  df = df.append({'series_name' : series_name, 'track_id' : song_track_id},ignore_index = True) # add the track id and corresponding tv series name to dataframe\n"
     ]
    },
    {
     "name": "stdout",
     "output_type": "stream",
     "text": [
      "11kMxeRmF4tBKrhwIjkJGc is added.\n"
     ]
    },
    {
     "name": "stderr",
     "output_type": "stream",
     "text": [
      "C:\\Users\\Omer\\AppData\\Local\\Temp\\ipykernel_18680\\2248095568.py:112: FutureWarning: The frame.append method is deprecated and will be removed from pandas in a future version. Use pandas.concat instead.\n",
      "  df = df.append({'series_name' : series_name, 'track_id' : song_track_id},ignore_index = True) # add the track id and corresponding tv series name to dataframe\n"
     ]
    },
    {
     "name": "stdout",
     "output_type": "stream",
     "text": [
      "1vESNLqkDf1OH9SM5lNwu7 is added.\n"
     ]
    },
    {
     "name": "stderr",
     "output_type": "stream",
     "text": [
      "C:\\Users\\Omer\\AppData\\Local\\Temp\\ipykernel_18680\\2248095568.py:112: FutureWarning: The frame.append method is deprecated and will be removed from pandas in a future version. Use pandas.concat instead.\n",
      "  df = df.append({'series_name' : series_name, 'track_id' : song_track_id},ignore_index = True) # add the track id and corresponding tv series name to dataframe\n"
     ]
    },
    {
     "name": "stdout",
     "output_type": "stream",
     "text": [
      "46zYN39zmtmxb2YEwm0DkH is added.\n"
     ]
    },
    {
     "name": "stderr",
     "output_type": "stream",
     "text": [
      "C:\\Users\\Omer\\AppData\\Local\\Temp\\ipykernel_18680\\2248095568.py:112: FutureWarning: The frame.append method is deprecated and will be removed from pandas in a future version. Use pandas.concat instead.\n",
      "  df = df.append({'series_name' : series_name, 'track_id' : song_track_id},ignore_index = True) # add the track id and corresponding tv series name to dataframe\n"
     ]
    },
    {
     "name": "stdout",
     "output_type": "stream",
     "text": [
      "60jI0JgMLLj1VggHJVhtRs is added.\n",
      "song is not on spotify\n",
      "it is not a season continue\n",
      "There is no song in this episode.\n",
      "number of songs in this episode : 5\n"
     ]
    },
    {
     "name": "stderr",
     "output_type": "stream",
     "text": [
      "C:\\Users\\Omer\\AppData\\Local\\Temp\\ipykernel_18680\\2248095568.py:112: FutureWarning: The frame.append method is deprecated and will be removed from pandas in a future version. Use pandas.concat instead.\n",
      "  df = df.append({'series_name' : series_name, 'track_id' : song_track_id},ignore_index = True) # add the track id and corresponding tv series name to dataframe\n"
     ]
    },
    {
     "name": "stdout",
     "output_type": "stream",
     "text": [
      "3TEHaGREmft4lec2TrcR8C is added.\n"
     ]
    },
    {
     "name": "stderr",
     "output_type": "stream",
     "text": [
      "C:\\Users\\Omer\\AppData\\Local\\Temp\\ipykernel_18680\\2248095568.py:112: FutureWarning: The frame.append method is deprecated and will be removed from pandas in a future version. Use pandas.concat instead.\n",
      "  df = df.append({'series_name' : series_name, 'track_id' : song_track_id},ignore_index = True) # add the track id and corresponding tv series name to dataframe\n"
     ]
    },
    {
     "name": "stdout",
     "output_type": "stream",
     "text": [
      "3uPqIkHV3vv2NR8qfuZ1Wu is added.\n"
     ]
    },
    {
     "name": "stderr",
     "output_type": "stream",
     "text": [
      "C:\\Users\\Omer\\AppData\\Local\\Temp\\ipykernel_18680\\2248095568.py:112: FutureWarning: The frame.append method is deprecated and will be removed from pandas in a future version. Use pandas.concat instead.\n",
      "  df = df.append({'series_name' : series_name, 'track_id' : song_track_id},ignore_index = True) # add the track id and corresponding tv series name to dataframe\n"
     ]
    },
    {
     "name": "stdout",
     "output_type": "stream",
     "text": [
      "0tg3vIohCYYngs9a6MWciR is added.\n"
     ]
    },
    {
     "name": "stderr",
     "output_type": "stream",
     "text": [
      "C:\\Users\\Omer\\AppData\\Local\\Temp\\ipykernel_18680\\2248095568.py:112: FutureWarning: The frame.append method is deprecated and will be removed from pandas in a future version. Use pandas.concat instead.\n",
      "  df = df.append({'series_name' : series_name, 'track_id' : song_track_id},ignore_index = True) # add the track id and corresponding tv series name to dataframe\n"
     ]
    },
    {
     "name": "stdout",
     "output_type": "stream",
     "text": [
      "3OsEHXLj2p0ERAfQZjIwTm is added.\n"
     ]
    },
    {
     "name": "stderr",
     "output_type": "stream",
     "text": [
      "C:\\Users\\Omer\\AppData\\Local\\Temp\\ipykernel_18680\\2248095568.py:112: FutureWarning: The frame.append method is deprecated and will be removed from pandas in a future version. Use pandas.concat instead.\n",
      "  df = df.append({'series_name' : series_name, 'track_id' : song_track_id},ignore_index = True) # add the track id and corresponding tv series name to dataframe\n"
     ]
    },
    {
     "name": "stdout",
     "output_type": "stream",
     "text": [
      "2fU3AKhwxVBeji4fIU8PiV is added.\n",
      "it is not an episode.\n",
      "number of songs in this episode : 4\n"
     ]
    },
    {
     "name": "stderr",
     "output_type": "stream",
     "text": [
      "C:\\Users\\Omer\\AppData\\Local\\Temp\\ipykernel_18680\\2248095568.py:112: FutureWarning: The frame.append method is deprecated and will be removed from pandas in a future version. Use pandas.concat instead.\n",
      "  df = df.append({'series_name' : series_name, 'track_id' : song_track_id},ignore_index = True) # add the track id and corresponding tv series name to dataframe\n"
     ]
    },
    {
     "name": "stdout",
     "output_type": "stream",
     "text": [
      "0Jnkn4O6q4y917HDNZKifj is added.\n"
     ]
    },
    {
     "name": "stderr",
     "output_type": "stream",
     "text": [
      "C:\\Users\\Omer\\AppData\\Local\\Temp\\ipykernel_18680\\2248095568.py:112: FutureWarning: The frame.append method is deprecated and will be removed from pandas in a future version. Use pandas.concat instead.\n",
      "  df = df.append({'series_name' : series_name, 'track_id' : song_track_id},ignore_index = True) # add the track id and corresponding tv series name to dataframe\n"
     ]
    },
    {
     "name": "stdout",
     "output_type": "stream",
     "text": [
      "4sEiRlCEf6qhLijdFsLNCt is added.\n"
     ]
    },
    {
     "name": "stderr",
     "output_type": "stream",
     "text": [
      "C:\\Users\\Omer\\AppData\\Local\\Temp\\ipykernel_18680\\2248095568.py:112: FutureWarning: The frame.append method is deprecated and will be removed from pandas in a future version. Use pandas.concat instead.\n",
      "  df = df.append({'series_name' : series_name, 'track_id' : song_track_id},ignore_index = True) # add the track id and corresponding tv series name to dataframe\n"
     ]
    },
    {
     "name": "stdout",
     "output_type": "stream",
     "text": [
      "0HARLlpBiQj9YQ3ZNUffsG is added.\n"
     ]
    },
    {
     "name": "stderr",
     "output_type": "stream",
     "text": [
      "C:\\Users\\Omer\\AppData\\Local\\Temp\\ipykernel_18680\\2248095568.py:112: FutureWarning: The frame.append method is deprecated and will be removed from pandas in a future version. Use pandas.concat instead.\n",
      "  df = df.append({'series_name' : series_name, 'track_id' : song_track_id},ignore_index = True) # add the track id and corresponding tv series name to dataframe\n"
     ]
    },
    {
     "name": "stdout",
     "output_type": "stream",
     "text": [
      "46zYN39zmtmxb2YEwm0DkH is added.\n",
      "number of songs in this episode : 1\n"
     ]
    },
    {
     "name": "stderr",
     "output_type": "stream",
     "text": [
      "C:\\Users\\Omer\\AppData\\Local\\Temp\\ipykernel_18680\\2248095568.py:112: FutureWarning: The frame.append method is deprecated and will be removed from pandas in a future version. Use pandas.concat instead.\n",
      "  df = df.append({'series_name' : series_name, 'track_id' : song_track_id},ignore_index = True) # add the track id and corresponding tv series name to dataframe\n"
     ]
    },
    {
     "name": "stdout",
     "output_type": "stream",
     "text": [
      "63qMOQTUVOQFeU8fQnE3HC is added.\n",
      "There is no song in this episode.\n",
      "number of songs in this episode : 2\n",
      "song is not on spotify\n"
     ]
    },
    {
     "name": "stderr",
     "output_type": "stream",
     "text": [
      "C:\\Users\\Omer\\AppData\\Local\\Temp\\ipykernel_18680\\2248095568.py:112: FutureWarning: The frame.append method is deprecated and will be removed from pandas in a future version. Use pandas.concat instead.\n",
      "  df = df.append({'series_name' : series_name, 'track_id' : song_track_id},ignore_index = True) # add the track id and corresponding tv series name to dataframe\n"
     ]
    },
    {
     "name": "stdout",
     "output_type": "stream",
     "text": [
      "5Z0GKdBhTmCsrIkM41DtRW is added.\n",
      "number of songs in this episode : 2\n"
     ]
    },
    {
     "name": "stderr",
     "output_type": "stream",
     "text": [
      "C:\\Users\\Omer\\AppData\\Local\\Temp\\ipykernel_18680\\2248095568.py:112: FutureWarning: The frame.append method is deprecated and will be removed from pandas in a future version. Use pandas.concat instead.\n",
      "  df = df.append({'series_name' : series_name, 'track_id' : song_track_id},ignore_index = True) # add the track id and corresponding tv series name to dataframe\n"
     ]
    },
    {
     "name": "stdout",
     "output_type": "stream",
     "text": [
      "2XHmlr6R8nS0tSXNM3ueV5 is added.\n",
      "song is not on spotify\n",
      "number of songs in this episode : 5\n"
     ]
    },
    {
     "name": "stderr",
     "output_type": "stream",
     "text": [
      "C:\\Users\\Omer\\AppData\\Local\\Temp\\ipykernel_18680\\2248095568.py:112: FutureWarning: The frame.append method is deprecated and will be removed from pandas in a future version. Use pandas.concat instead.\n",
      "  df = df.append({'series_name' : series_name, 'track_id' : song_track_id},ignore_index = True) # add the track id and corresponding tv series name to dataframe\n"
     ]
    },
    {
     "name": "stdout",
     "output_type": "stream",
     "text": [
      "4QXlpO313VUbWKqVYwtQmI is added.\n"
     ]
    },
    {
     "name": "stderr",
     "output_type": "stream",
     "text": [
      "C:\\Users\\Omer\\AppData\\Local\\Temp\\ipykernel_18680\\2248095568.py:112: FutureWarning: The frame.append method is deprecated and will be removed from pandas in a future version. Use pandas.concat instead.\n",
      "  df = df.append({'series_name' : series_name, 'track_id' : song_track_id},ignore_index = True) # add the track id and corresponding tv series name to dataframe\n"
     ]
    },
    {
     "name": "stdout",
     "output_type": "stream",
     "text": [
      "5Mmz9kXPi8ltQ0fvWGiJK3 is added.\n"
     ]
    },
    {
     "name": "stderr",
     "output_type": "stream",
     "text": [
      "C:\\Users\\Omer\\AppData\\Local\\Temp\\ipykernel_18680\\2248095568.py:112: FutureWarning: The frame.append method is deprecated and will be removed from pandas in a future version. Use pandas.concat instead.\n",
      "  df = df.append({'series_name' : series_name, 'track_id' : song_track_id},ignore_index = True) # add the track id and corresponding tv series name to dataframe\n"
     ]
    },
    {
     "name": "stdout",
     "output_type": "stream",
     "text": [
      "3OsEHXLj2p0ERAfQZjIwTm is added.\n"
     ]
    },
    {
     "name": "stderr",
     "output_type": "stream",
     "text": [
      "C:\\Users\\Omer\\AppData\\Local\\Temp\\ipykernel_18680\\2248095568.py:112: FutureWarning: The frame.append method is deprecated and will be removed from pandas in a future version. Use pandas.concat instead.\n",
      "  df = df.append({'series_name' : series_name, 'track_id' : song_track_id},ignore_index = True) # add the track id and corresponding tv series name to dataframe\n"
     ]
    },
    {
     "name": "stdout",
     "output_type": "stream",
     "text": [
      "4A5C30MCiRDab8styuXwIa is added.\n"
     ]
    },
    {
     "name": "stderr",
     "output_type": "stream",
     "text": [
      "C:\\Users\\Omer\\AppData\\Local\\Temp\\ipykernel_18680\\2248095568.py:112: FutureWarning: The frame.append method is deprecated and will be removed from pandas in a future version. Use pandas.concat instead.\n",
      "  df = df.append({'series_name' : series_name, 'track_id' : song_track_id},ignore_index = True) # add the track id and corresponding tv series name to dataframe\n"
     ]
    },
    {
     "name": "stdout",
     "output_type": "stream",
     "text": [
      "3JhCNAO31iVjg1lDLwoRA7 is added.\n",
      "it is not an episode.\n",
      "number of songs in this episode : 2\n"
     ]
    },
    {
     "name": "stderr",
     "output_type": "stream",
     "text": [
      "C:\\Users\\Omer\\AppData\\Local\\Temp\\ipykernel_18680\\2248095568.py:112: FutureWarning: The frame.append method is deprecated and will be removed from pandas in a future version. Use pandas.concat instead.\n",
      "  df = df.append({'series_name' : series_name, 'track_id' : song_track_id},ignore_index = True) # add the track id and corresponding tv series name to dataframe\n"
     ]
    },
    {
     "name": "stdout",
     "output_type": "stream",
     "text": [
      "4MxkRYnyVJvcYdAABPfM45 is added.\n"
     ]
    },
    {
     "name": "stderr",
     "output_type": "stream",
     "text": [
      "C:\\Users\\Omer\\AppData\\Local\\Temp\\ipykernel_18680\\2248095568.py:112: FutureWarning: The frame.append method is deprecated and will be removed from pandas in a future version. Use pandas.concat instead.\n",
      "  df = df.append({'series_name' : series_name, 'track_id' : song_track_id},ignore_index = True) # add the track id and corresponding tv series name to dataframe\n"
     ]
    },
    {
     "name": "stdout",
     "output_type": "stream",
     "text": [
      "3pBZxni2sXHhsEwDmWWlK8 is added.\n",
      "number of songs in this episode : 7\n"
     ]
    },
    {
     "name": "stderr",
     "output_type": "stream",
     "text": [
      "C:\\Users\\Omer\\AppData\\Local\\Temp\\ipykernel_18680\\2248095568.py:112: FutureWarning: The frame.append method is deprecated and will be removed from pandas in a future version. Use pandas.concat instead.\n",
      "  df = df.append({'series_name' : series_name, 'track_id' : song_track_id},ignore_index = True) # add the track id and corresponding tv series name to dataframe\n"
     ]
    },
    {
     "name": "stdout",
     "output_type": "stream",
     "text": [
      "3yVBH1Jr6wFaO5caQzl71b is added.\n"
     ]
    },
    {
     "name": "stderr",
     "output_type": "stream",
     "text": [
      "C:\\Users\\Omer\\AppData\\Local\\Temp\\ipykernel_18680\\2248095568.py:112: FutureWarning: The frame.append method is deprecated and will be removed from pandas in a future version. Use pandas.concat instead.\n",
      "  df = df.append({'series_name' : series_name, 'track_id' : song_track_id},ignore_index = True) # add the track id and corresponding tv series name to dataframe\n"
     ]
    },
    {
     "name": "stdout",
     "output_type": "stream",
     "text": [
      "4jIFpX1KPvP2iT40m8pCtW is added.\n"
     ]
    },
    {
     "name": "stderr",
     "output_type": "stream",
     "text": [
      "C:\\Users\\Omer\\AppData\\Local\\Temp\\ipykernel_18680\\2248095568.py:112: FutureWarning: The frame.append method is deprecated and will be removed from pandas in a future version. Use pandas.concat instead.\n",
      "  df = df.append({'series_name' : series_name, 'track_id' : song_track_id},ignore_index = True) # add the track id and corresponding tv series name to dataframe\n"
     ]
    },
    {
     "name": "stdout",
     "output_type": "stream",
     "text": [
      "1ync0DC605IjuypLTAw8A2 is added.\n",
      "song is not on spotify\n"
     ]
    },
    {
     "name": "stderr",
     "output_type": "stream",
     "text": [
      "C:\\Users\\Omer\\AppData\\Local\\Temp\\ipykernel_18680\\2248095568.py:112: FutureWarning: The frame.append method is deprecated and will be removed from pandas in a future version. Use pandas.concat instead.\n",
      "  df = df.append({'series_name' : series_name, 'track_id' : song_track_id},ignore_index = True) # add the track id and corresponding tv series name to dataframe\n"
     ]
    },
    {
     "name": "stdout",
     "output_type": "stream",
     "text": [
      "2ZR5DlUZBb4Mx2B4UZldgY is added.\n"
     ]
    },
    {
     "name": "stderr",
     "output_type": "stream",
     "text": [
      "C:\\Users\\Omer\\AppData\\Local\\Temp\\ipykernel_18680\\2248095568.py:112: FutureWarning: The frame.append method is deprecated and will be removed from pandas in a future version. Use pandas.concat instead.\n",
      "  df = df.append({'series_name' : series_name, 'track_id' : song_track_id},ignore_index = True) # add the track id and corresponding tv series name to dataframe\n"
     ]
    },
    {
     "name": "stdout",
     "output_type": "stream",
     "text": [
      "2N0poXfbcRj6lSqd9ZjXEG is added.\n"
     ]
    },
    {
     "name": "stderr",
     "output_type": "stream",
     "text": [
      "C:\\Users\\Omer\\AppData\\Local\\Temp\\ipykernel_18680\\2248095568.py:112: FutureWarning: The frame.append method is deprecated and will be removed from pandas in a future version. Use pandas.concat instead.\n",
      "  df = df.append({'series_name' : series_name, 'track_id' : song_track_id},ignore_index = True) # add the track id and corresponding tv series name to dataframe\n"
     ]
    },
    {
     "name": "stdout",
     "output_type": "stream",
     "text": [
      "7vSzGbTC6ZzoOhBrsEfGCO is added.\n",
      "There is no song in this episode.\n",
      "number of songs in this episode : 1\n"
     ]
    },
    {
     "name": "stderr",
     "output_type": "stream",
     "text": [
      "C:\\Users\\Omer\\AppData\\Local\\Temp\\ipykernel_18680\\2248095568.py:112: FutureWarning: The frame.append method is deprecated and will be removed from pandas in a future version. Use pandas.concat instead.\n",
      "  df = df.append({'series_name' : series_name, 'track_id' : song_track_id},ignore_index = True) # add the track id and corresponding tv series name to dataframe\n"
     ]
    },
    {
     "name": "stdout",
     "output_type": "stream",
     "text": [
      "2JELTHhVad6emixQY2opFf is added.\n",
      "it is not an episode.\n",
      "number of songs in this episode : 3\n",
      "6G4jiDYQa5MaWQJWJg2oPm is added.\n"
     ]
    },
    {
     "name": "stderr",
     "output_type": "stream",
     "text": [
      "C:\\Users\\Omer\\AppData\\Local\\Temp\\ipykernel_18680\\2248095568.py:112: FutureWarning: The frame.append method is deprecated and will be removed from pandas in a future version. Use pandas.concat instead.\n",
      "  df = df.append({'series_name' : series_name, 'track_id' : song_track_id},ignore_index = True) # add the track id and corresponding tv series name to dataframe\n",
      "C:\\Users\\Omer\\AppData\\Local\\Temp\\ipykernel_18680\\2248095568.py:112: FutureWarning: The frame.append method is deprecated and will be removed from pandas in a future version. Use pandas.concat instead.\n",
      "  df = df.append({'series_name' : series_name, 'track_id' : song_track_id},ignore_index = True) # add the track id and corresponding tv series name to dataframe\n"
     ]
    },
    {
     "name": "stdout",
     "output_type": "stream",
     "text": [
      "0EW8HZ9ThpWoU2F1M8TZ8k is added.\n"
     ]
    },
    {
     "name": "stderr",
     "output_type": "stream",
     "text": [
      "C:\\Users\\Omer\\AppData\\Local\\Temp\\ipykernel_18680\\2248095568.py:112: FutureWarning: The frame.append method is deprecated and will be removed from pandas in a future version. Use pandas.concat instead.\n",
      "  df = df.append({'series_name' : series_name, 'track_id' : song_track_id},ignore_index = True) # add the track id and corresponding tv series name to dataframe\n"
     ]
    },
    {
     "name": "stdout",
     "output_type": "stream",
     "text": [
      "6EDSzJ7FG8fhGUI88hLscn is added.\n",
      "number of songs in this episode : 4\n"
     ]
    },
    {
     "name": "stderr",
     "output_type": "stream",
     "text": [
      "C:\\Users\\Omer\\AppData\\Local\\Temp\\ipykernel_18680\\2248095568.py:112: FutureWarning: The frame.append method is deprecated and will be removed from pandas in a future version. Use pandas.concat instead.\n",
      "  df = df.append({'series_name' : series_name, 'track_id' : song_track_id},ignore_index = True) # add the track id and corresponding tv series name to dataframe\n"
     ]
    },
    {
     "name": "stdout",
     "output_type": "stream",
     "text": [
      "0tg3vIohCYYngs9a6MWciR is added.\n"
     ]
    },
    {
     "name": "stderr",
     "output_type": "stream",
     "text": [
      "C:\\Users\\Omer\\AppData\\Local\\Temp\\ipykernel_18680\\2248095568.py:112: FutureWarning: The frame.append method is deprecated and will be removed from pandas in a future version. Use pandas.concat instead.\n",
      "  df = df.append({'series_name' : series_name, 'track_id' : song_track_id},ignore_index = True) # add the track id and corresponding tv series name to dataframe\n"
     ]
    },
    {
     "name": "stdout",
     "output_type": "stream",
     "text": [
      "46zYN39zmtmxb2YEwm0DkH is added.\n"
     ]
    },
    {
     "name": "stderr",
     "output_type": "stream",
     "text": [
      "C:\\Users\\Omer\\AppData\\Local\\Temp\\ipykernel_18680\\2248095568.py:112: FutureWarning: The frame.append method is deprecated and will be removed from pandas in a future version. Use pandas.concat instead.\n",
      "  df = df.append({'series_name' : series_name, 'track_id' : song_track_id},ignore_index = True) # add the track id and corresponding tv series name to dataframe\n"
     ]
    },
    {
     "name": "stdout",
     "output_type": "stream",
     "text": [
      "1W0PFvTRNe24cT8ldLWA4q is added.\n"
     ]
    },
    {
     "name": "stderr",
     "output_type": "stream",
     "text": [
      "C:\\Users\\Omer\\AppData\\Local\\Temp\\ipykernel_18680\\2248095568.py:112: FutureWarning: The frame.append method is deprecated and will be removed from pandas in a future version. Use pandas.concat instead.\n",
      "  df = df.append({'series_name' : series_name, 'track_id' : song_track_id},ignore_index = True) # add the track id and corresponding tv series name to dataframe\n"
     ]
    },
    {
     "name": "stdout",
     "output_type": "stream",
     "text": [
      "3Vct4N5WLM7GGP5O1LH86Z is added.\n",
      "There is no song in this episode.\n",
      "number of songs in this episode : 2\n",
      "song is not on spotify\n"
     ]
    },
    {
     "name": "stderr",
     "output_type": "stream",
     "text": [
      "C:\\Users\\Omer\\AppData\\Local\\Temp\\ipykernel_18680\\2248095568.py:112: FutureWarning: The frame.append method is deprecated and will be removed from pandas in a future version. Use pandas.concat instead.\n",
      "  df = df.append({'series_name' : series_name, 'track_id' : song_track_id},ignore_index = True) # add the track id and corresponding tv series name to dataframe\n"
     ]
    },
    {
     "name": "stdout",
     "output_type": "stream",
     "text": [
      "2ZR5DlUZBb4Mx2B4UZldgY is added.\n",
      "There is no song in this episode.\n",
      "There is no song in this episode.\n",
      "it is not an episode.\n",
      "number of songs in this episode : 1\n"
     ]
    },
    {
     "name": "stderr",
     "output_type": "stream",
     "text": [
      "C:\\Users\\Omer\\AppData\\Local\\Temp\\ipykernel_18680\\2248095568.py:112: FutureWarning: The frame.append method is deprecated and will be removed from pandas in a future version. Use pandas.concat instead.\n",
      "  df = df.append({'series_name' : series_name, 'track_id' : song_track_id},ignore_index = True) # add the track id and corresponding tv series name to dataframe\n"
     ]
    },
    {
     "name": "stdout",
     "output_type": "stream",
     "text": [
      "5Z0GKdBhTmCsrIkM41DtRW is added.\n",
      "number of songs in this episode : 4\n"
     ]
    },
    {
     "name": "stderr",
     "output_type": "stream",
     "text": [
      "C:\\Users\\Omer\\AppData\\Local\\Temp\\ipykernel_18680\\2248095568.py:112: FutureWarning: The frame.append method is deprecated and will be removed from pandas in a future version. Use pandas.concat instead.\n",
      "  df = df.append({'series_name' : series_name, 'track_id' : song_track_id},ignore_index = True) # add the track id and corresponding tv series name to dataframe\n"
     ]
    },
    {
     "name": "stdout",
     "output_type": "stream",
     "text": [
      "46zYN39zmtmxb2YEwm0DkH is added.\n"
     ]
    },
    {
     "name": "stderr",
     "output_type": "stream",
     "text": [
      "C:\\Users\\Omer\\AppData\\Local\\Temp\\ipykernel_18680\\2248095568.py:112: FutureWarning: The frame.append method is deprecated and will be removed from pandas in a future version. Use pandas.concat instead.\n",
      "  df = df.append({'series_name' : series_name, 'track_id' : song_track_id},ignore_index = True) # add the track id and corresponding tv series name to dataframe\n"
     ]
    },
    {
     "name": "stdout",
     "output_type": "stream",
     "text": [
      "6fUWZ2XyjtyRvaKv3QnJpt is added.\n"
     ]
    },
    {
     "name": "stderr",
     "output_type": "stream",
     "text": [
      "C:\\Users\\Omer\\AppData\\Local\\Temp\\ipykernel_18680\\2248095568.py:112: FutureWarning: The frame.append method is deprecated and will be removed from pandas in a future version. Use pandas.concat instead.\n",
      "  df = df.append({'series_name' : series_name, 'track_id' : song_track_id},ignore_index = True) # add the track id and corresponding tv series name to dataframe\n"
     ]
    },
    {
     "name": "stdout",
     "output_type": "stream",
     "text": [
      "3nVc5ARjS5gpGOV34QkTlw is added.\n"
     ]
    },
    {
     "name": "stderr",
     "output_type": "stream",
     "text": [
      "C:\\Users\\Omer\\AppData\\Local\\Temp\\ipykernel_18680\\2248095568.py:112: FutureWarning: The frame.append method is deprecated and will be removed from pandas in a future version. Use pandas.concat instead.\n",
      "  df = df.append({'series_name' : series_name, 'track_id' : song_track_id},ignore_index = True) # add the track id and corresponding tv series name to dataframe\n"
     ]
    },
    {
     "name": "stdout",
     "output_type": "stream",
     "text": [
      "2ZR5DlUZBb4Mx2B4UZldgY is added.\n",
      "There is no song in this episode.\n",
      "number of songs in this episode : 3\n"
     ]
    },
    {
     "name": "stderr",
     "output_type": "stream",
     "text": [
      "C:\\Users\\Omer\\AppData\\Local\\Temp\\ipykernel_18680\\2248095568.py:112: FutureWarning: The frame.append method is deprecated and will be removed from pandas in a future version. Use pandas.concat instead.\n",
      "  df = df.append({'series_name' : series_name, 'track_id' : song_track_id},ignore_index = True) # add the track id and corresponding tv series name to dataframe\n"
     ]
    },
    {
     "name": "stdout",
     "output_type": "stream",
     "text": [
      "63qMOQTUVOQFeU8fQnE3HC is added.\n"
     ]
    },
    {
     "name": "stderr",
     "output_type": "stream",
     "text": [
      "C:\\Users\\Omer\\AppData\\Local\\Temp\\ipykernel_18680\\2248095568.py:112: FutureWarning: The frame.append method is deprecated and will be removed from pandas in a future version. Use pandas.concat instead.\n",
      "  df = df.append({'series_name' : series_name, 'track_id' : song_track_id},ignore_index = True) # add the track id and corresponding tv series name to dataframe\n"
     ]
    },
    {
     "name": "stdout",
     "output_type": "stream",
     "text": [
      "5Z0GKdBhTmCsrIkM41DtRW is added.\n"
     ]
    },
    {
     "name": "stderr",
     "output_type": "stream",
     "text": [
      "C:\\Users\\Omer\\AppData\\Local\\Temp\\ipykernel_18680\\2248095568.py:112: FutureWarning: The frame.append method is deprecated and will be removed from pandas in a future version. Use pandas.concat instead.\n",
      "  df = df.append({'series_name' : series_name, 'track_id' : song_track_id},ignore_index = True) # add the track id and corresponding tv series name to dataframe\n"
     ]
    },
    {
     "name": "stdout",
     "output_type": "stream",
     "text": [
      "31hsDyWBxpACLgtMNiBTia is added.\n",
      "number of songs in this episode : 1\n"
     ]
    },
    {
     "name": "stderr",
     "output_type": "stream",
     "text": [
      "C:\\Users\\Omer\\AppData\\Local\\Temp\\ipykernel_18680\\2248095568.py:112: FutureWarning: The frame.append method is deprecated and will be removed from pandas in a future version. Use pandas.concat instead.\n",
      "  df = df.append({'series_name' : series_name, 'track_id' : song_track_id},ignore_index = True) # add the track id and corresponding tv series name to dataframe\n"
     ]
    },
    {
     "name": "stdout",
     "output_type": "stream",
     "text": [
      "7MS9dTXx0QPMcsk9CEOWu8 is added.\n",
      "number of songs in this episode : 3\n"
     ]
    },
    {
     "name": "stderr",
     "output_type": "stream",
     "text": [
      "C:\\Users\\Omer\\AppData\\Local\\Temp\\ipykernel_18680\\2248095568.py:112: FutureWarning: The frame.append method is deprecated and will be removed from pandas in a future version. Use pandas.concat instead.\n",
      "  df = df.append({'series_name' : series_name, 'track_id' : song_track_id},ignore_index = True) # add the track id and corresponding tv series name to dataframe\n"
     ]
    },
    {
     "name": "stdout",
     "output_type": "stream",
     "text": [
      "39UD2bqF3B60HuNuwYKnv0 is added.\n"
     ]
    },
    {
     "name": "stderr",
     "output_type": "stream",
     "text": [
      "C:\\Users\\Omer\\AppData\\Local\\Temp\\ipykernel_18680\\2248095568.py:112: FutureWarning: The frame.append method is deprecated and will be removed from pandas in a future version. Use pandas.concat instead.\n",
      "  df = df.append({'series_name' : series_name, 'track_id' : song_track_id},ignore_index = True) # add the track id and corresponding tv series name to dataframe\n"
     ]
    },
    {
     "name": "stdout",
     "output_type": "stream",
     "text": [
      "3e9eVB2gCbyNRRsqoBWh70 is added.\n"
     ]
    },
    {
     "name": "stderr",
     "output_type": "stream",
     "text": [
      "C:\\Users\\Omer\\AppData\\Local\\Temp\\ipykernel_18680\\2248095568.py:112: FutureWarning: The frame.append method is deprecated and will be removed from pandas in a future version. Use pandas.concat instead.\n",
      "  df = df.append({'series_name' : series_name, 'track_id' : song_track_id},ignore_index = True) # add the track id and corresponding tv series name to dataframe\n"
     ]
    },
    {
     "name": "stdout",
     "output_type": "stream",
     "text": [
      "63qMOQTUVOQFeU8fQnE3HC is added.\n",
      "number of songs in this episode : 4\n"
     ]
    },
    {
     "name": "stderr",
     "output_type": "stream",
     "text": [
      "C:\\Users\\Omer\\AppData\\Local\\Temp\\ipykernel_18680\\2248095568.py:112: FutureWarning: The frame.append method is deprecated and will be removed from pandas in a future version. Use pandas.concat instead.\n",
      "  df = df.append({'series_name' : series_name, 'track_id' : song_track_id},ignore_index = True) # add the track id and corresponding tv series name to dataframe\n"
     ]
    },
    {
     "name": "stdout",
     "output_type": "stream",
     "text": [
      "2XHmlr6R8nS0tSXNM3ueV5 is added.\n",
      "can not add the song, try it again\n",
      "Message: unknown error: cannot determine loading status\n",
      "from unknown error: unexpected command response\n",
      "  (Session info: chrome=103.0.5060.114)\n",
      "Stacktrace:\n",
      "Backtrace:\n",
      "\tOrdinal0 [0x00486463+2188387]\n",
      "\tOrdinal0 [0x0041E461+1762401]\n",
      "\tOrdinal0 [0x00333D78+802168]\n",
      "\tOrdinal0 [0x00327210+750096]\n",
      "\tOrdinal0 [0x0032675A+747354]\n",
      "\tOrdinal0 [0x00325D3F+744767]\n",
      "\tOrdinal0 [0x00324C28+740392]\n",
      "\tOrdinal0 [0x00325228+741928]\n",
      "\tOrdinal0 [0x0032EF2F+782127]\n",
      "\tOrdinal0 [0x00339FBB+827323]\n",
      "\tOrdinal0 [0x0033D310+840464]\n",
      "\tOrdinal0 [0x003254F6+742646]\n",
      "\tOrdinal0 [0x00339BF3+826355]\n",
      "\tOrdinal0 [0x0038CB47+1166151]\n",
      "\tOrdinal0 [0x0037C5F6+1099254]\n",
      "\tOrdinal0 [0x00356BE0+945120]\n",
      "\tOrdinal0 [0x00357AD6+948950]\n",
      "\tGetHandleVerifier [0x007271F2+2712546]\n",
      "\tGetHandleVerifier [0x0071886D+2652765]\n",
      "\tGetHandleVerifier [0x0051002A+520730]\n",
      "\tGetHandleVerifier [0x0050EE06+516086]\n",
      "\tOrdinal0 [0x0042468B+1787531]\n",
      "\tOrdinal0 [0x00428E88+1805960]\n",
      "\tOrdinal0 [0x00428F75+1806197]\n",
      "\tOrdinal0 [0x00431DF1+1842673]\n",
      "\tBaseThreadInitThunk [0x75D7FA29+25]\n",
      "\tRtlGetAppContainerNamedObjectPath [0x77727A9E+286]\n",
      "\tRtlGetAppContainerNamedObjectPath [0x77727A6E+238]\n",
      "\n"
     ]
    },
    {
     "name": "stderr",
     "output_type": "stream",
     "text": [
      "C:\\Users\\Omer\\AppData\\Local\\Temp\\ipykernel_18680\\2248095568.py:112: FutureWarning: The frame.append method is deprecated and will be removed from pandas in a future version. Use pandas.concat instead.\n",
      "  df = df.append({'series_name' : series_name, 'track_id' : song_track_id},ignore_index = True) # add the track id and corresponding tv series name to dataframe\n"
     ]
    },
    {
     "name": "stdout",
     "output_type": "stream",
     "text": [
      "4bJI9uGfjRCWVZnZHaHzuQ is added.\n"
     ]
    },
    {
     "name": "stderr",
     "output_type": "stream",
     "text": [
      "C:\\Users\\Omer\\AppData\\Local\\Temp\\ipykernel_18680\\2248095568.py:112: FutureWarning: The frame.append method is deprecated and will be removed from pandas in a future version. Use pandas.concat instead.\n",
      "  df = df.append({'series_name' : series_name, 'track_id' : song_track_id},ignore_index = True) # add the track id and corresponding tv series name to dataframe\n"
     ]
    },
    {
     "name": "stdout",
     "output_type": "stream",
     "text": [
      "5VenxhH7Ejj1CU9rzIRwN6 is added.\n"
     ]
    },
    {
     "name": "stderr",
     "output_type": "stream",
     "text": [
      "C:\\Users\\Omer\\AppData\\Local\\Temp\\ipykernel_18680\\2248095568.py:112: FutureWarning: The frame.append method is deprecated and will be removed from pandas in a future version. Use pandas.concat instead.\n",
      "  df = df.append({'series_name' : series_name, 'track_id' : song_track_id},ignore_index = True) # add the track id and corresponding tv series name to dataframe\n"
     ]
    },
    {
     "name": "stdout",
     "output_type": "stream",
     "text": [
      "270mCsqjCov3ORyUe6HTTl is added.\n",
      "number of songs in this episode : 1\n"
     ]
    },
    {
     "name": "stderr",
     "output_type": "stream",
     "text": [
      "C:\\Users\\Omer\\AppData\\Local\\Temp\\ipykernel_18680\\2248095568.py:112: FutureWarning: The frame.append method is deprecated and will be removed from pandas in a future version. Use pandas.concat instead.\n",
      "  df = df.append({'series_name' : series_name, 'track_id' : song_track_id},ignore_index = True) # add the track id and corresponding tv series name to dataframe\n"
     ]
    },
    {
     "name": "stdout",
     "output_type": "stream",
     "text": [
      "2XHmlr6R8nS0tSXNM3ueV5 is added.\n",
      "number of songs in this episode : 1\n"
     ]
    },
    {
     "name": "stderr",
     "output_type": "stream",
     "text": [
      "C:\\Users\\Omer\\AppData\\Local\\Temp\\ipykernel_18680\\2248095568.py:112: FutureWarning: The frame.append method is deprecated and will be removed from pandas in a future version. Use pandas.concat instead.\n",
      "  df = df.append({'series_name' : series_name, 'track_id' : song_track_id},ignore_index = True) # add the track id and corresponding tv series name to dataframe\n"
     ]
    },
    {
     "name": "stdout",
     "output_type": "stream",
     "text": [
      "0dNvDsKI4rRQsxc74BGeKu is added.\n",
      "number of songs in this episode : 2\n"
     ]
    },
    {
     "name": "stderr",
     "output_type": "stream",
     "text": [
      "C:\\Users\\Omer\\AppData\\Local\\Temp\\ipykernel_18680\\2248095568.py:112: FutureWarning: The frame.append method is deprecated and will be removed from pandas in a future version. Use pandas.concat instead.\n",
      "  df = df.append({'series_name' : series_name, 'track_id' : song_track_id},ignore_index = True) # add the track id and corresponding tv series name to dataframe\n"
     ]
    },
    {
     "name": "stdout",
     "output_type": "stream",
     "text": [
      "29UoD4YNrIVZi9eQfxd5wC is added.\n"
     ]
    },
    {
     "name": "stderr",
     "output_type": "stream",
     "text": [
      "C:\\Users\\Omer\\AppData\\Local\\Temp\\ipykernel_18680\\2248095568.py:112: FutureWarning: The frame.append method is deprecated and will be removed from pandas in a future version. Use pandas.concat instead.\n",
      "  df = df.append({'series_name' : series_name, 'track_id' : song_track_id},ignore_index = True) # add the track id and corresponding tv series name to dataframe\n"
     ]
    },
    {
     "name": "stdout",
     "output_type": "stream",
     "text": [
      "0dNvDsKI4rRQsxc74BGeKu is added.\n",
      "it is not an episode.\n",
      "There is no song in this episode.\n",
      "number of songs in this episode : 3\n"
     ]
    },
    {
     "name": "stderr",
     "output_type": "stream",
     "text": [
      "C:\\Users\\Omer\\AppData\\Local\\Temp\\ipykernel_18680\\2248095568.py:112: FutureWarning: The frame.append method is deprecated and will be removed from pandas in a future version. Use pandas.concat instead.\n",
      "  df = df.append({'series_name' : series_name, 'track_id' : song_track_id},ignore_index = True) # add the track id and corresponding tv series name to dataframe\n"
     ]
    },
    {
     "name": "stdout",
     "output_type": "stream",
     "text": [
      "39UD2bqF3B60HuNuwYKnv0 is added.\n",
      "song is not on spotify\n"
     ]
    },
    {
     "name": "stderr",
     "output_type": "stream",
     "text": [
      "C:\\Users\\Omer\\AppData\\Local\\Temp\\ipykernel_18680\\2248095568.py:112: FutureWarning: The frame.append method is deprecated and will be removed from pandas in a future version. Use pandas.concat instead.\n",
      "  df = df.append({'series_name' : series_name, 'track_id' : song_track_id},ignore_index = True) # add the track id and corresponding tv series name to dataframe\n"
     ]
    },
    {
     "name": "stdout",
     "output_type": "stream",
     "text": [
      "6FLu7DmGBTIrvAmUXTvbz7 is added.\n",
      "number of songs in this episode : 1\n"
     ]
    },
    {
     "name": "stderr",
     "output_type": "stream",
     "text": [
      "C:\\Users\\Omer\\AppData\\Local\\Temp\\ipykernel_18680\\2248095568.py:112: FutureWarning: The frame.append method is deprecated and will be removed from pandas in a future version. Use pandas.concat instead.\n",
      "  df = df.append({'series_name' : series_name, 'track_id' : song_track_id},ignore_index = True) # add the track id and corresponding tv series name to dataframe\n"
     ]
    },
    {
     "name": "stdout",
     "output_type": "stream",
     "text": [
      "4bJI9uGfjRCWVZnZHaHzuQ is added.\n",
      "There is no song in this episode.\n",
      "it is not an episode.\n",
      "number of songs in this episode : 1\n"
     ]
    },
    {
     "name": "stderr",
     "output_type": "stream",
     "text": [
      "C:\\Users\\Omer\\AppData\\Local\\Temp\\ipykernel_18680\\2248095568.py:112: FutureWarning: The frame.append method is deprecated and will be removed from pandas in a future version. Use pandas.concat instead.\n",
      "  df = df.append({'series_name' : series_name, 'track_id' : song_track_id},ignore_index = True) # add the track id and corresponding tv series name to dataframe\n"
     ]
    },
    {
     "name": "stdout",
     "output_type": "stream",
     "text": [
      "1srYxbKQZPvRFA6ek9rgm4 is added.\n",
      "number of songs in this episode : 2\n"
     ]
    },
    {
     "name": "stderr",
     "output_type": "stream",
     "text": [
      "C:\\Users\\Omer\\AppData\\Local\\Temp\\ipykernel_18680\\2248095568.py:112: FutureWarning: The frame.append method is deprecated and will be removed from pandas in a future version. Use pandas.concat instead.\n",
      "  df = df.append({'series_name' : series_name, 'track_id' : song_track_id},ignore_index = True) # add the track id and corresponding tv series name to dataframe\n"
     ]
    },
    {
     "name": "stdout",
     "output_type": "stream",
     "text": [
      "27EL03l0hDhLJBoZJTjtHV is added.\n"
     ]
    },
    {
     "name": "stderr",
     "output_type": "stream",
     "text": [
      "C:\\Users\\Omer\\AppData\\Local\\Temp\\ipykernel_18680\\2248095568.py:112: FutureWarning: The frame.append method is deprecated and will be removed from pandas in a future version. Use pandas.concat instead.\n",
      "  df = df.append({'series_name' : series_name, 'track_id' : song_track_id},ignore_index = True) # add the track id and corresponding tv series name to dataframe\n"
     ]
    },
    {
     "name": "stdout",
     "output_type": "stream",
     "text": [
      "60WFh05bGmzgosmg3E2z1J is added.\n",
      "number of songs in this episode : 1\n"
     ]
    },
    {
     "name": "stderr",
     "output_type": "stream",
     "text": [
      "C:\\Users\\Omer\\AppData\\Local\\Temp\\ipykernel_18680\\2248095568.py:112: FutureWarning: The frame.append method is deprecated and will be removed from pandas in a future version. Use pandas.concat instead.\n",
      "  df = df.append({'series_name' : series_name, 'track_id' : song_track_id},ignore_index = True) # add the track id and corresponding tv series name to dataframe\n"
     ]
    },
    {
     "name": "stdout",
     "output_type": "stream",
     "text": [
      "2ZyFCyDpnQyi6xHMgNWOen is added.\n",
      "There is no song in this episode.\n",
      "There is no song in this episode.\n",
      "There is no song in this episode.\n",
      "it is not an episode.\n",
      "number of songs in this episode : 4\n"
     ]
    },
    {
     "name": "stderr",
     "output_type": "stream",
     "text": [
      "C:\\Users\\Omer\\AppData\\Local\\Temp\\ipykernel_18680\\2248095568.py:112: FutureWarning: The frame.append method is deprecated and will be removed from pandas in a future version. Use pandas.concat instead.\n",
      "  df = df.append({'series_name' : series_name, 'track_id' : song_track_id},ignore_index = True) # add the track id and corresponding tv series name to dataframe\n"
     ]
    },
    {
     "name": "stdout",
     "output_type": "stream",
     "text": [
      "3OsEHXLj2p0ERAfQZjIwTm is added.\n"
     ]
    },
    {
     "name": "stderr",
     "output_type": "stream",
     "text": [
      "C:\\Users\\Omer\\AppData\\Local\\Temp\\ipykernel_18680\\2248095568.py:112: FutureWarning: The frame.append method is deprecated and will be removed from pandas in a future version. Use pandas.concat instead.\n",
      "  df = df.append({'series_name' : series_name, 'track_id' : song_track_id},ignore_index = True) # add the track id and corresponding tv series name to dataframe\n"
     ]
    },
    {
     "name": "stdout",
     "output_type": "stream",
     "text": [
      "0tg3vIohCYYngs9a6MWciR is added.\n"
     ]
    },
    {
     "name": "stderr",
     "output_type": "stream",
     "text": [
      "C:\\Users\\Omer\\AppData\\Local\\Temp\\ipykernel_18680\\2248095568.py:112: FutureWarning: The frame.append method is deprecated and will be removed from pandas in a future version. Use pandas.concat instead.\n",
      "  df = df.append({'series_name' : series_name, 'track_id' : song_track_id},ignore_index = True) # add the track id and corresponding tv series name to dataframe\n"
     ]
    },
    {
     "name": "stdout",
     "output_type": "stream",
     "text": [
      "46zYN39zmtmxb2YEwm0DkH is added.\n"
     ]
    },
    {
     "name": "stderr",
     "output_type": "stream",
     "text": [
      "C:\\Users\\Omer\\AppData\\Local\\Temp\\ipykernel_18680\\2248095568.py:112: FutureWarning: The frame.append method is deprecated and will be removed from pandas in a future version. Use pandas.concat instead.\n",
      "  df = df.append({'series_name' : series_name, 'track_id' : song_track_id},ignore_index = True) # add the track id and corresponding tv series name to dataframe\n"
     ]
    },
    {
     "name": "stdout",
     "output_type": "stream",
     "text": [
      "4gReKM0bT5KiCYOudOKkLW is added.\n",
      "number of songs in this episode : 2\n"
     ]
    },
    {
     "name": "stderr",
     "output_type": "stream",
     "text": [
      "C:\\Users\\Omer\\AppData\\Local\\Temp\\ipykernel_18680\\2248095568.py:112: FutureWarning: The frame.append method is deprecated and will be removed from pandas in a future version. Use pandas.concat instead.\n",
      "  df = df.append({'series_name' : series_name, 'track_id' : song_track_id},ignore_index = True) # add the track id and corresponding tv series name to dataframe\n"
     ]
    },
    {
     "name": "stdout",
     "output_type": "stream",
     "text": [
      "554N5INigMQTCDzVhs2P0Y is added.\n"
     ]
    },
    {
     "name": "stderr",
     "output_type": "stream",
     "text": [
      "C:\\Users\\Omer\\AppData\\Local\\Temp\\ipykernel_18680\\2248095568.py:112: FutureWarning: The frame.append method is deprecated and will be removed from pandas in a future version. Use pandas.concat instead.\n",
      "  df = df.append({'series_name' : series_name, 'track_id' : song_track_id},ignore_index = True) # add the track id and corresponding tv series name to dataframe\n"
     ]
    },
    {
     "name": "stdout",
     "output_type": "stream",
     "text": [
      "7mcVVyI27eWc1rrxBpKyhl is added.\n",
      "number of songs in this episode : 1\n",
      "song is not on spotify\n",
      "number of songs in this episode : 2\n"
     ]
    },
    {
     "name": "stderr",
     "output_type": "stream",
     "text": [
      "C:\\Users\\Omer\\AppData\\Local\\Temp\\ipykernel_18680\\2248095568.py:112: FutureWarning: The frame.append method is deprecated and will be removed from pandas in a future version. Use pandas.concat instead.\n",
      "  df = df.append({'series_name' : series_name, 'track_id' : song_track_id},ignore_index = True) # add the track id and corresponding tv series name to dataframe\n"
     ]
    },
    {
     "name": "stdout",
     "output_type": "stream",
     "text": [
      "4ifhi6KntbqJaQUlGFULTC is added.\n"
     ]
    },
    {
     "name": "stderr",
     "output_type": "stream",
     "text": [
      "C:\\Users\\Omer\\AppData\\Local\\Temp\\ipykernel_18680\\2248095568.py:112: FutureWarning: The frame.append method is deprecated and will be removed from pandas in a future version. Use pandas.concat instead.\n",
      "  df = df.append({'series_name' : series_name, 'track_id' : song_track_id},ignore_index = True) # add the track id and corresponding tv series name to dataframe\n"
     ]
    },
    {
     "name": "stdout",
     "output_type": "stream",
     "text": [
      "3R86VBsspZXfTTe1XPgyss is added.\n",
      "There is no song in this episode.\n",
      "There is no song in this episode.\n",
      "number of songs in this episode : 4\n"
     ]
    },
    {
     "name": "stderr",
     "output_type": "stream",
     "text": [
      "C:\\Users\\Omer\\AppData\\Local\\Temp\\ipykernel_18680\\2248095568.py:112: FutureWarning: The frame.append method is deprecated and will be removed from pandas in a future version. Use pandas.concat instead.\n",
      "  df = df.append({'series_name' : series_name, 'track_id' : song_track_id},ignore_index = True) # add the track id and corresponding tv series name to dataframe\n"
     ]
    },
    {
     "name": "stdout",
     "output_type": "stream",
     "text": [
      "21XOCmov5Dyo4KcUXuQ9Gt is added.\n"
     ]
    },
    {
     "name": "stderr",
     "output_type": "stream",
     "text": [
      "C:\\Users\\Omer\\AppData\\Local\\Temp\\ipykernel_18680\\2248095568.py:112: FutureWarning: The frame.append method is deprecated and will be removed from pandas in a future version. Use pandas.concat instead.\n",
      "  df = df.append({'series_name' : series_name, 'track_id' : song_track_id},ignore_index = True) # add the track id and corresponding tv series name to dataframe\n"
     ]
    },
    {
     "name": "stdout",
     "output_type": "stream",
     "text": [
      "2xgi7mpthnz6PNYhZDnSzy is added.\n",
      "can not add the song, try it again\n",
      "Message: unknown error: cannot determine loading status\n",
      "from no such window\n",
      "  (Session info: chrome=103.0.5060.114)\n",
      "Stacktrace:\n",
      "Backtrace:\n",
      "\tOrdinal0 [0x00486463+2188387]\n",
      "\tOrdinal0 [0x0041E461+1762401]\n",
      "\tOrdinal0 [0x00333C40+801856]\n",
      "\tOrdinal0 [0x003262D9+746201]\n",
      "\tOrdinal0 [0x00324E3A+740922]\n",
      "\tOrdinal0 [0x00325228+741928]\n",
      "\tOrdinal0 [0x0032EF2F+782127]\n",
      "\tOrdinal0 [0x00339FBB+827323]\n",
      "\tOrdinal0 [0x0033D310+840464]\n",
      "\tOrdinal0 [0x003254F6+742646]\n",
      "\tOrdinal0 [0x00339BF3+826355]\n",
      "\tOrdinal0 [0x0038CB47+1166151]\n",
      "\tOrdinal0 [0x0037C5F6+1099254]\n",
      "\tOrdinal0 [0x00356BE0+945120]\n",
      "\tOrdinal0 [0x00357AD6+948950]\n",
      "\tGetHandleVerifier [0x007271F2+2712546]\n",
      "\tGetHandleVerifier [0x0071886D+2652765]\n",
      "\tGetHandleVerifier [0x0051002A+520730]\n",
      "\tGetHandleVerifier [0x0050EE06+516086]\n",
      "\tOrdinal0 [0x0042468B+1787531]\n",
      "\tOrdinal0 [0x00428E88+1805960]\n",
      "\tOrdinal0 [0x00428F75+1806197]\n",
      "\tOrdinal0 [0x00431DF1+1842673]\n",
      "\tBaseThreadInitThunk [0x75D7FA29+25]\n",
      "\tRtlGetAppContainerNamedObjectPath [0x77727A9E+286]\n",
      "\tRtlGetAppContainerNamedObjectPath [0x77727A6E+238]\n",
      "\n"
     ]
    },
    {
     "name": "stderr",
     "output_type": "stream",
     "text": [
      "C:\\Users\\Omer\\AppData\\Local\\Temp\\ipykernel_18680\\2248095568.py:112: FutureWarning: The frame.append method is deprecated and will be removed from pandas in a future version. Use pandas.concat instead.\n",
      "  df = df.append({'series_name' : series_name, 'track_id' : song_track_id},ignore_index = True) # add the track id and corresponding tv series name to dataframe\n"
     ]
    },
    {
     "name": "stdout",
     "output_type": "stream",
     "text": [
      "6bBmeNnS1QmZODp3YCidar is added.\n"
     ]
    },
    {
     "name": "stderr",
     "output_type": "stream",
     "text": [
      "C:\\Users\\Omer\\AppData\\Local\\Temp\\ipykernel_18680\\2248095568.py:112: FutureWarning: The frame.append method is deprecated and will be removed from pandas in a future version. Use pandas.concat instead.\n",
      "  df = df.append({'series_name' : series_name, 'track_id' : song_track_id},ignore_index = True) # add the track id and corresponding tv series name to dataframe\n"
     ]
    },
    {
     "name": "stdout",
     "output_type": "stream",
     "text": [
      "5VenxhH7Ejj1CU9rzIRwN6 is added.\n",
      "number of songs in this episode : 1\n"
     ]
    },
    {
     "name": "stderr",
     "output_type": "stream",
     "text": [
      "C:\\Users\\Omer\\AppData\\Local\\Temp\\ipykernel_18680\\2248095568.py:112: FutureWarning: The frame.append method is deprecated and will be removed from pandas in a future version. Use pandas.concat instead.\n",
      "  df = df.append({'series_name' : series_name, 'track_id' : song_track_id},ignore_index = True) # add the track id and corresponding tv series name to dataframe\n"
     ]
    },
    {
     "name": "stdout",
     "output_type": "stream",
     "text": [
      "2ZR5DlUZBb4Mx2B4UZldgY is added.\n",
      "There is no song in this episode.\n",
      "There is no song in this episode.\n",
      "it is not an episode.\n",
      "number of songs in this episode : 3\n"
     ]
    },
    {
     "name": "stderr",
     "output_type": "stream",
     "text": [
      "C:\\Users\\Omer\\AppData\\Local\\Temp\\ipykernel_18680\\2248095568.py:112: FutureWarning: The frame.append method is deprecated and will be removed from pandas in a future version. Use pandas.concat instead.\n",
      "  df = df.append({'series_name' : series_name, 'track_id' : song_track_id},ignore_index = True) # add the track id and corresponding tv series name to dataframe\n"
     ]
    },
    {
     "name": "stdout",
     "output_type": "stream",
     "text": [
      "3TEHaGREmft4lec2TrcR8C is added.\n"
     ]
    },
    {
     "name": "stderr",
     "output_type": "stream",
     "text": [
      "C:\\Users\\Omer\\AppData\\Local\\Temp\\ipykernel_18680\\2248095568.py:112: FutureWarning: The frame.append method is deprecated and will be removed from pandas in a future version. Use pandas.concat instead.\n",
      "  df = df.append({'series_name' : series_name, 'track_id' : song_track_id},ignore_index = True) # add the track id and corresponding tv series name to dataframe\n"
     ]
    },
    {
     "name": "stdout",
     "output_type": "stream",
     "text": [
      "19dXp0iMyBI5lVRVVlPzva is added.\n"
     ]
    },
    {
     "name": "stderr",
     "output_type": "stream",
     "text": [
      "C:\\Users\\Omer\\AppData\\Local\\Temp\\ipykernel_18680\\2248095568.py:112: FutureWarning: The frame.append method is deprecated and will be removed from pandas in a future version. Use pandas.concat instead.\n",
      "  df = df.append({'series_name' : series_name, 'track_id' : song_track_id},ignore_index = True) # add the track id and corresponding tv series name to dataframe\n"
     ]
    },
    {
     "name": "stdout",
     "output_type": "stream",
     "text": [
      "78HABdywA9flb8KjXRZhjX is added.\n",
      "number of songs in this episode : 9\n"
     ]
    },
    {
     "name": "stderr",
     "output_type": "stream",
     "text": [
      "C:\\Users\\Omer\\AppData\\Local\\Temp\\ipykernel_18680\\2248095568.py:112: FutureWarning: The frame.append method is deprecated and will be removed from pandas in a future version. Use pandas.concat instead.\n",
      "  df = df.append({'series_name' : series_name, 'track_id' : song_track_id},ignore_index = True) # add the track id and corresponding tv series name to dataframe\n"
     ]
    },
    {
     "name": "stdout",
     "output_type": "stream",
     "text": [
      "4w0ZLk5WfBmgv8jrXhmBpH is added.\n"
     ]
    },
    {
     "name": "stderr",
     "output_type": "stream",
     "text": [
      "C:\\Users\\Omer\\AppData\\Local\\Temp\\ipykernel_18680\\2248095568.py:112: FutureWarning: The frame.append method is deprecated and will be removed from pandas in a future version. Use pandas.concat instead.\n",
      "  df = df.append({'series_name' : series_name, 'track_id' : song_track_id},ignore_index = True) # add the track id and corresponding tv series name to dataframe\n"
     ]
    },
    {
     "name": "stdout",
     "output_type": "stream",
     "text": [
      "3TEHaGREmft4lec2TrcR8C is added.\n"
     ]
    },
    {
     "name": "stderr",
     "output_type": "stream",
     "text": [
      "C:\\Users\\Omer\\AppData\\Local\\Temp\\ipykernel_18680\\2248095568.py:112: FutureWarning: The frame.append method is deprecated and will be removed from pandas in a future version. Use pandas.concat instead.\n",
      "  df = df.append({'series_name' : series_name, 'track_id' : song_track_id},ignore_index = True) # add the track id and corresponding tv series name to dataframe\n"
     ]
    },
    {
     "name": "stdout",
     "output_type": "stream",
     "text": [
      "0RBrVgoHQj2lxERts8XQVx is added.\n",
      "song is not on spotify\n"
     ]
    },
    {
     "name": "stderr",
     "output_type": "stream",
     "text": [
      "C:\\Users\\Omer\\AppData\\Local\\Temp\\ipykernel_18680\\2248095568.py:112: FutureWarning: The frame.append method is deprecated and will be removed from pandas in a future version. Use pandas.concat instead.\n",
      "  df = df.append({'series_name' : series_name, 'track_id' : song_track_id},ignore_index = True) # add the track id and corresponding tv series name to dataframe\n"
     ]
    },
    {
     "name": "stdout",
     "output_type": "stream",
     "text": [
      "5lwItu6PsR8rNYMJ9Rj0iw is added.\n"
     ]
    },
    {
     "name": "stderr",
     "output_type": "stream",
     "text": [
      "C:\\Users\\Omer\\AppData\\Local\\Temp\\ipykernel_18680\\2248095568.py:112: FutureWarning: The frame.append method is deprecated and will be removed from pandas in a future version. Use pandas.concat instead.\n",
      "  df = df.append({'series_name' : series_name, 'track_id' : song_track_id},ignore_index = True) # add the track id and corresponding tv series name to dataframe\n"
     ]
    },
    {
     "name": "stdout",
     "output_type": "stream",
     "text": [
      "5zHPcazGgm0f1nCAEdejaG is added.\n"
     ]
    },
    {
     "name": "stderr",
     "output_type": "stream",
     "text": [
      "C:\\Users\\Omer\\AppData\\Local\\Temp\\ipykernel_18680\\2248095568.py:112: FutureWarning: The frame.append method is deprecated and will be removed from pandas in a future version. Use pandas.concat instead.\n",
      "  df = df.append({'series_name' : series_name, 'track_id' : song_track_id},ignore_index = True) # add the track id and corresponding tv series name to dataframe\n"
     ]
    },
    {
     "name": "stdout",
     "output_type": "stream",
     "text": [
      "2uHY5gd3Dba3RQCWlpihtf is added.\n"
     ]
    },
    {
     "name": "stderr",
     "output_type": "stream",
     "text": [
      "C:\\Users\\Omer\\AppData\\Local\\Temp\\ipykernel_18680\\2248095568.py:112: FutureWarning: The frame.append method is deprecated and will be removed from pandas in a future version. Use pandas.concat instead.\n",
      "  df = df.append({'series_name' : series_name, 'track_id' : song_track_id},ignore_index = True) # add the track id and corresponding tv series name to dataframe\n"
     ]
    },
    {
     "name": "stdout",
     "output_type": "stream",
     "text": [
      "2xMRs2CDMaisKX43uxoehF is added.\n"
     ]
    },
    {
     "name": "stderr",
     "output_type": "stream",
     "text": [
      "C:\\Users\\Omer\\AppData\\Local\\Temp\\ipykernel_18680\\2248095568.py:112: FutureWarning: The frame.append method is deprecated and will be removed from pandas in a future version. Use pandas.concat instead.\n",
      "  df = df.append({'series_name' : series_name, 'track_id' : song_track_id},ignore_index = True) # add the track id and corresponding tv series name to dataframe\n"
     ]
    },
    {
     "name": "stdout",
     "output_type": "stream",
     "text": [
      "7hM1RuN79QTcqL9jB0nmkV is added.\n",
      "number of songs in this episode : 4\n"
     ]
    },
    {
     "name": "stderr",
     "output_type": "stream",
     "text": [
      "C:\\Users\\Omer\\AppData\\Local\\Temp\\ipykernel_18680\\2248095568.py:112: FutureWarning: The frame.append method is deprecated and will be removed from pandas in a future version. Use pandas.concat instead.\n",
      "  df = df.append({'series_name' : series_name, 'track_id' : song_track_id},ignore_index = True) # add the track id and corresponding tv series name to dataframe\n"
     ]
    },
    {
     "name": "stdout",
     "output_type": "stream",
     "text": [
      "5lZNun3sgfIsCrz15Lw5wS is added.\n",
      "song is not on spotify\n"
     ]
    },
    {
     "name": "stderr",
     "output_type": "stream",
     "text": [
      "C:\\Users\\Omer\\AppData\\Local\\Temp\\ipykernel_18680\\2248095568.py:112: FutureWarning: The frame.append method is deprecated and will be removed from pandas in a future version. Use pandas.concat instead.\n",
      "  df = df.append({'series_name' : series_name, 'track_id' : song_track_id},ignore_index = True) # add the track id and corresponding tv series name to dataframe\n"
     ]
    },
    {
     "name": "stdout",
     "output_type": "stream",
     "text": [
      "0v0oZp6UtLygYYXGjlpd6H is added.\n"
     ]
    },
    {
     "name": "stderr",
     "output_type": "stream",
     "text": [
      "C:\\Users\\Omer\\AppData\\Local\\Temp\\ipykernel_18680\\2248095568.py:112: FutureWarning: The frame.append method is deprecated and will be removed from pandas in a future version. Use pandas.concat instead.\n",
      "  df = df.append({'series_name' : series_name, 'track_id' : song_track_id},ignore_index = True) # add the track id and corresponding tv series name to dataframe\n"
     ]
    },
    {
     "name": "stdout",
     "output_type": "stream",
     "text": [
      "6L3KOT8e0dyoRvcXsTqVkL is added.\n",
      "number of songs in this episode : 1\n"
     ]
    },
    {
     "name": "stderr",
     "output_type": "stream",
     "text": [
      "C:\\Users\\Omer\\AppData\\Local\\Temp\\ipykernel_18680\\2248095568.py:112: FutureWarning: The frame.append method is deprecated and will be removed from pandas in a future version. Use pandas.concat instead.\n",
      "  df = df.append({'series_name' : series_name, 'track_id' : song_track_id},ignore_index = True) # add the track id and corresponding tv series name to dataframe\n"
     ]
    },
    {
     "name": "stdout",
     "output_type": "stream",
     "text": [
      "4ncMG3PHLDoAXysKpi6G0v is added.\n",
      "it is not an episode.\n",
      "number of songs in this episode : 1\n"
     ]
    },
    {
     "name": "stderr",
     "output_type": "stream",
     "text": [
      "C:\\Users\\Omer\\AppData\\Local\\Temp\\ipykernel_18680\\2248095568.py:112: FutureWarning: The frame.append method is deprecated and will be removed from pandas in a future version. Use pandas.concat instead.\n",
      "  df = df.append({'series_name' : series_name, 'track_id' : song_track_id},ignore_index = True) # add the track id and corresponding tv series name to dataframe\n"
     ]
    },
    {
     "name": "stdout",
     "output_type": "stream",
     "text": [
      "7g0U3rtBMMVCD3a4aZM7hq is added.\n",
      "number of songs in this episode : 1\n"
     ]
    },
    {
     "name": "stderr",
     "output_type": "stream",
     "text": [
      "C:\\Users\\Omer\\AppData\\Local\\Temp\\ipykernel_18680\\2248095568.py:112: FutureWarning: The frame.append method is deprecated and will be removed from pandas in a future version. Use pandas.concat instead.\n",
      "  df = df.append({'series_name' : series_name, 'track_id' : song_track_id},ignore_index = True) # add the track id and corresponding tv series name to dataframe\n"
     ]
    },
    {
     "name": "stdout",
     "output_type": "stream",
     "text": [
      "01msvlgTP6a40CQggl2sLI is added.\n",
      "There is no song in this episode.\n",
      "number of songs in this episode : 1\n"
     ]
    },
    {
     "name": "stderr",
     "output_type": "stream",
     "text": [
      "C:\\Users\\Omer\\AppData\\Local\\Temp\\ipykernel_18680\\2248095568.py:112: FutureWarning: The frame.append method is deprecated and will be removed from pandas in a future version. Use pandas.concat instead.\n",
      "  df = df.append({'series_name' : series_name, 'track_id' : song_track_id},ignore_index = True) # add the track id and corresponding tv series name to dataframe\n"
     ]
    },
    {
     "name": "stdout",
     "output_type": "stream",
     "text": [
      "3TEHaGREmft4lec2TrcR8C is added.\n",
      "number of songs in this episode : 4\n"
     ]
    },
    {
     "name": "stderr",
     "output_type": "stream",
     "text": [
      "C:\\Users\\Omer\\AppData\\Local\\Temp\\ipykernel_18680\\2248095568.py:112: FutureWarning: The frame.append method is deprecated and will be removed from pandas in a future version. Use pandas.concat instead.\n",
      "  df = df.append({'series_name' : series_name, 'track_id' : song_track_id},ignore_index = True) # add the track id and corresponding tv series name to dataframe\n"
     ]
    },
    {
     "name": "stdout",
     "output_type": "stream",
     "text": [
      "26g63JUREpHniyLfxIfxJ2 is added.\n",
      "song is not on spotify\n",
      "song is not on spotify\n"
     ]
    },
    {
     "name": "stderr",
     "output_type": "stream",
     "text": [
      "C:\\Users\\Omer\\AppData\\Local\\Temp\\ipykernel_18680\\2248095568.py:112: FutureWarning: The frame.append method is deprecated and will be removed from pandas in a future version. Use pandas.concat instead.\n",
      "  df = df.append({'series_name' : series_name, 'track_id' : song_track_id},ignore_index = True) # add the track id and corresponding tv series name to dataframe\n"
     ]
    },
    {
     "name": "stdout",
     "output_type": "stream",
     "text": [
      "5VenxhH7Ejj1CU9rzIRwN6 is added.\n",
      "number of songs in this episode : 3\n"
     ]
    },
    {
     "name": "stderr",
     "output_type": "stream",
     "text": [
      "C:\\Users\\Omer\\AppData\\Local\\Temp\\ipykernel_18680\\2248095568.py:112: FutureWarning: The frame.append method is deprecated and will be removed from pandas in a future version. Use pandas.concat instead.\n",
      "  df = df.append({'series_name' : series_name, 'track_id' : song_track_id},ignore_index = True) # add the track id and corresponding tv series name to dataframe\n"
     ]
    },
    {
     "name": "stdout",
     "output_type": "stream",
     "text": [
      "1aB9breq8dwbE97t9nP41x is added.\n",
      "song is not on spotify\n"
     ]
    },
    {
     "name": "stderr",
     "output_type": "stream",
     "text": [
      "C:\\Users\\Omer\\AppData\\Local\\Temp\\ipykernel_18680\\2248095568.py:112: FutureWarning: The frame.append method is deprecated and will be removed from pandas in a future version. Use pandas.concat instead.\n",
      "  df = df.append({'series_name' : series_name, 'track_id' : song_track_id},ignore_index = True) # add the track id and corresponding tv series name to dataframe\n"
     ]
    },
    {
     "name": "stdout",
     "output_type": "stream",
     "text": [
      "4WcTU0mWmPqJ6MWC2N0dw2 is added.\n",
      "it is not an episode.\n",
      "number of songs in this episode : 2\n"
     ]
    },
    {
     "name": "stderr",
     "output_type": "stream",
     "text": [
      "C:\\Users\\Omer\\AppData\\Local\\Temp\\ipykernel_18680\\2248095568.py:112: FutureWarning: The frame.append method is deprecated and will be removed from pandas in a future version. Use pandas.concat instead.\n",
      "  df = df.append({'series_name' : series_name, 'track_id' : song_track_id},ignore_index = True) # add the track id and corresponding tv series name to dataframe\n"
     ]
    },
    {
     "name": "stdout",
     "output_type": "stream",
     "text": [
      "7FnEYwZBhwez2Z73jGoAo7 is added.\n"
     ]
    },
    {
     "name": "stderr",
     "output_type": "stream",
     "text": [
      "C:\\Users\\Omer\\AppData\\Local\\Temp\\ipykernel_18680\\2248095568.py:112: FutureWarning: The frame.append method is deprecated and will be removed from pandas in a future version. Use pandas.concat instead.\n",
      "  df = df.append({'series_name' : series_name, 'track_id' : song_track_id},ignore_index = True) # add the track id and corresponding tv series name to dataframe\n"
     ]
    },
    {
     "name": "stdout",
     "output_type": "stream",
     "text": [
      "6zoSeOpFKssFQNap7Jdbjb is added.\n",
      "number of songs in this episode : 1\n"
     ]
    },
    {
     "name": "stderr",
     "output_type": "stream",
     "text": [
      "C:\\Users\\Omer\\AppData\\Local\\Temp\\ipykernel_18680\\2248095568.py:112: FutureWarning: The frame.append method is deprecated and will be removed from pandas in a future version. Use pandas.concat instead.\n",
      "  df = df.append({'series_name' : series_name, 'track_id' : song_track_id},ignore_index = True) # add the track id and corresponding tv series name to dataframe\n"
     ]
    },
    {
     "name": "stdout",
     "output_type": "stream",
     "text": [
      "2dkUdrAUanCZtrutvzP8rj is added.\n",
      "number of songs in this episode : 12\n"
     ]
    },
    {
     "name": "stderr",
     "output_type": "stream",
     "text": [
      "C:\\Users\\Omer\\AppData\\Local\\Temp\\ipykernel_18680\\2248095568.py:112: FutureWarning: The frame.append method is deprecated and will be removed from pandas in a future version. Use pandas.concat instead.\n",
      "  df = df.append({'series_name' : series_name, 'track_id' : song_track_id},ignore_index = True) # add the track id and corresponding tv series name to dataframe\n"
     ]
    },
    {
     "name": "stdout",
     "output_type": "stream",
     "text": [
      "73vRFxHrqhOSEDBRIaT7av is added.\n"
     ]
    },
    {
     "name": "stderr",
     "output_type": "stream",
     "text": [
      "C:\\Users\\Omer\\AppData\\Local\\Temp\\ipykernel_18680\\2248095568.py:112: FutureWarning: The frame.append method is deprecated and will be removed from pandas in a future version. Use pandas.concat instead.\n",
      "  df = df.append({'series_name' : series_name, 'track_id' : song_track_id},ignore_index = True) # add the track id and corresponding tv series name to dataframe\n"
     ]
    },
    {
     "name": "stdout",
     "output_type": "stream",
     "text": [
      "5A3rbB07HQSw3FCfmoISYy is added.\n"
     ]
    },
    {
     "name": "stderr",
     "output_type": "stream",
     "text": [
      "C:\\Users\\Omer\\AppData\\Local\\Temp\\ipykernel_18680\\2248095568.py:112: FutureWarning: The frame.append method is deprecated and will be removed from pandas in a future version. Use pandas.concat instead.\n",
      "  df = df.append({'series_name' : series_name, 'track_id' : song_track_id},ignore_index = True) # add the track id and corresponding tv series name to dataframe\n"
     ]
    },
    {
     "name": "stdout",
     "output_type": "stream",
     "text": [
      "2gEO4kBjDxAqhBsb0vKpHF is added.\n"
     ]
    },
    {
     "name": "stderr",
     "output_type": "stream",
     "text": [
      "C:\\Users\\Omer\\AppData\\Local\\Temp\\ipykernel_18680\\2248095568.py:112: FutureWarning: The frame.append method is deprecated and will be removed from pandas in a future version. Use pandas.concat instead.\n",
      "  df = df.append({'series_name' : series_name, 'track_id' : song_track_id},ignore_index = True) # add the track id and corresponding tv series name to dataframe\n"
     ]
    },
    {
     "name": "stdout",
     "output_type": "stream",
     "text": [
      "6N6MqbwGqizcMme6BI8hlf is added.\n"
     ]
    },
    {
     "name": "stderr",
     "output_type": "stream",
     "text": [
      "C:\\Users\\Omer\\AppData\\Local\\Temp\\ipykernel_18680\\2248095568.py:112: FutureWarning: The frame.append method is deprecated and will be removed from pandas in a future version. Use pandas.concat instead.\n",
      "  df = df.append({'series_name' : series_name, 'track_id' : song_track_id},ignore_index = True) # add the track id and corresponding tv series name to dataframe\n"
     ]
    },
    {
     "name": "stdout",
     "output_type": "stream",
     "text": [
      "4iyQ6VaRnjLtUtgsVvOwsL is added.\n"
     ]
    },
    {
     "name": "stderr",
     "output_type": "stream",
     "text": [
      "C:\\Users\\Omer\\AppData\\Local\\Temp\\ipykernel_18680\\2248095568.py:112: FutureWarning: The frame.append method is deprecated and will be removed from pandas in a future version. Use pandas.concat instead.\n",
      "  df = df.append({'series_name' : series_name, 'track_id' : song_track_id},ignore_index = True) # add the track id and corresponding tv series name to dataframe\n"
     ]
    },
    {
     "name": "stdout",
     "output_type": "stream",
     "text": [
      "5BgnuYOnerVDqK9zLf7rlf is added.\n"
     ]
    },
    {
     "name": "stderr",
     "output_type": "stream",
     "text": [
      "C:\\Users\\Omer\\AppData\\Local\\Temp\\ipykernel_18680\\2248095568.py:112: FutureWarning: The frame.append method is deprecated and will be removed from pandas in a future version. Use pandas.concat instead.\n",
      "  df = df.append({'series_name' : series_name, 'track_id' : song_track_id},ignore_index = True) # add the track id and corresponding tv series name to dataframe\n"
     ]
    },
    {
     "name": "stdout",
     "output_type": "stream",
     "text": [
      "2L9MrdhpregWFjOGqUQz8d is added.\n"
     ]
    },
    {
     "name": "stderr",
     "output_type": "stream",
     "text": [
      "C:\\Users\\Omer\\AppData\\Local\\Temp\\ipykernel_18680\\2248095568.py:112: FutureWarning: The frame.append method is deprecated and will be removed from pandas in a future version. Use pandas.concat instead.\n",
      "  df = df.append({'series_name' : series_name, 'track_id' : song_track_id},ignore_index = True) # add the track id and corresponding tv series name to dataframe\n"
     ]
    },
    {
     "name": "stdout",
     "output_type": "stream",
     "text": [
      "1YL6nygwDM0F7ZqDfQuL2I is added.\n"
     ]
    },
    {
     "name": "stderr",
     "output_type": "stream",
     "text": [
      "C:\\Users\\Omer\\AppData\\Local\\Temp\\ipykernel_18680\\2248095568.py:112: FutureWarning: The frame.append method is deprecated and will be removed from pandas in a future version. Use pandas.concat instead.\n",
      "  df = df.append({'series_name' : series_name, 'track_id' : song_track_id},ignore_index = True) # add the track id and corresponding tv series name to dataframe\n"
     ]
    },
    {
     "name": "stdout",
     "output_type": "stream",
     "text": [
      "4IFmWPR5GbgbCW1tys4rPk is added.\n"
     ]
    },
    {
     "name": "stderr",
     "output_type": "stream",
     "text": [
      "C:\\Users\\Omer\\AppData\\Local\\Temp\\ipykernel_18680\\2248095568.py:112: FutureWarning: The frame.append method is deprecated and will be removed from pandas in a future version. Use pandas.concat instead.\n",
      "  df = df.append({'series_name' : series_name, 'track_id' : song_track_id},ignore_index = True) # add the track id and corresponding tv series name to dataframe\n"
     ]
    },
    {
     "name": "stdout",
     "output_type": "stream",
     "text": [
      "5lZNun3sgfIsCrz15Lw5wS is added.\n"
     ]
    },
    {
     "name": "stderr",
     "output_type": "stream",
     "text": [
      "C:\\Users\\Omer\\AppData\\Local\\Temp\\ipykernel_18680\\2248095568.py:112: FutureWarning: The frame.append method is deprecated and will be removed from pandas in a future version. Use pandas.concat instead.\n",
      "  df = df.append({'series_name' : series_name, 'track_id' : song_track_id},ignore_index = True) # add the track id and corresponding tv series name to dataframe\n"
     ]
    },
    {
     "name": "stdout",
     "output_type": "stream",
     "text": [
      "2E4hW2drKZ67sUZgAbcO1N is added.\n"
     ]
    },
    {
     "name": "stderr",
     "output_type": "stream",
     "text": [
      "C:\\Users\\Omer\\AppData\\Local\\Temp\\ipykernel_18680\\2248095568.py:112: FutureWarning: The frame.append method is deprecated and will be removed from pandas in a future version. Use pandas.concat instead.\n",
      "  df = df.append({'series_name' : series_name, 'track_id' : song_track_id},ignore_index = True) # add the track id and corresponding tv series name to dataframe\n"
     ]
    },
    {
     "name": "stdout",
     "output_type": "stream",
     "text": [
      "2cwUe02VNInFY7OstKbqsJ is added.\n",
      "number of songs in this episode : 2\n"
     ]
    },
    {
     "name": "stderr",
     "output_type": "stream",
     "text": [
      "C:\\Users\\Omer\\AppData\\Local\\Temp\\ipykernel_18680\\2248095568.py:112: FutureWarning: The frame.append method is deprecated and will be removed from pandas in a future version. Use pandas.concat instead.\n",
      "  df = df.append({'series_name' : series_name, 'track_id' : song_track_id},ignore_index = True) # add the track id and corresponding tv series name to dataframe\n"
     ]
    },
    {
     "name": "stdout",
     "output_type": "stream",
     "text": [
      "4bJI9uGfjRCWVZnZHaHzuQ is added.\n"
     ]
    },
    {
     "name": "stderr",
     "output_type": "stream",
     "text": [
      "C:\\Users\\Omer\\AppData\\Local\\Temp\\ipykernel_18680\\2248095568.py:112: FutureWarning: The frame.append method is deprecated and will be removed from pandas in a future version. Use pandas.concat instead.\n",
      "  df = df.append({'series_name' : series_name, 'track_id' : song_track_id},ignore_index = True) # add the track id and corresponding tv series name to dataframe\n"
     ]
    },
    {
     "name": "stdout",
     "output_type": "stream",
     "text": [
      "1kBJmyerIA1x6e8Aq6mRgD is added.\n",
      "number of songs in this episode : 2\n",
      "can not add the song, try it again\n",
      "Message: unknown error: cannot determine loading status\n",
      "from unknown error: unexpected command response\n",
      "  (Session info: chrome=103.0.5060.114)\n",
      "Stacktrace:\n",
      "Backtrace:\n",
      "\tOrdinal0 [0x00486463+2188387]\n",
      "\tOrdinal0 [0x0041E461+1762401]\n",
      "\tOrdinal0 [0x00333D78+802168]\n",
      "\tOrdinal0 [0x00327210+750096]\n",
      "\tOrdinal0 [0x0032675A+747354]\n",
      "\tOrdinal0 [0x00325D3F+744767]\n",
      "\tOrdinal0 [0x00324C28+740392]\n",
      "\tOrdinal0 [0x00325228+741928]\n",
      "\tOrdinal0 [0x0032EF2F+782127]\n",
      "\tOrdinal0 [0x00339FBB+827323]\n",
      "\tOrdinal0 [0x0033D310+840464]\n",
      "\tOrdinal0 [0x003254F6+742646]\n",
      "\tOrdinal0 [0x00339BF3+826355]\n",
      "\tOrdinal0 [0x0038CB47+1166151]\n",
      "\tOrdinal0 [0x0037C5F6+1099254]\n",
      "\tOrdinal0 [0x00356BE0+945120]\n",
      "\tOrdinal0 [0x00357AD6+948950]\n",
      "\tGetHandleVerifier [0x007271F2+2712546]\n",
      "\tGetHandleVerifier [0x0071886D+2652765]\n",
      "\tGetHandleVerifier [0x0051002A+520730]\n",
      "\tGetHandleVerifier [0x0050EE06+516086]\n",
      "\tOrdinal0 [0x0042468B+1787531]\n",
      "\tOrdinal0 [0x00428E88+1805960]\n",
      "\tOrdinal0 [0x00428F75+1806197]\n",
      "\tOrdinal0 [0x00431DF1+1842673]\n",
      "\tBaseThreadInitThunk [0x75D7FA29+25]\n",
      "\tRtlGetAppContainerNamedObjectPath [0x77727A9E+286]\n",
      "\tRtlGetAppContainerNamedObjectPath [0x77727A6E+238]\n",
      "\n"
     ]
    },
    {
     "name": "stderr",
     "output_type": "stream",
     "text": [
      "C:\\Users\\Omer\\AppData\\Local\\Temp\\ipykernel_18680\\2248095568.py:112: FutureWarning: The frame.append method is deprecated and will be removed from pandas in a future version. Use pandas.concat instead.\n",
      "  df = df.append({'series_name' : series_name, 'track_id' : song_track_id},ignore_index = True) # add the track id and corresponding tv series name to dataframe\n"
     ]
    },
    {
     "name": "stdout",
     "output_type": "stream",
     "text": [
      "6XdINov1lWBUf8JfPOSr6K is added.\n"
     ]
    },
    {
     "name": "stderr",
     "output_type": "stream",
     "text": [
      "C:\\Users\\Omer\\AppData\\Local\\Temp\\ipykernel_18680\\2248095568.py:112: FutureWarning: The frame.append method is deprecated and will be removed from pandas in a future version. Use pandas.concat instead.\n",
      "  df = df.append({'series_name' : series_name, 'track_id' : song_track_id},ignore_index = True) # add the track id and corresponding tv series name to dataframe\n"
     ]
    },
    {
     "name": "stdout",
     "output_type": "stream",
     "text": [
      "4vFlYlbylirdxtM3YTrAQY is added.\n",
      "number of songs in this episode : 1\n"
     ]
    },
    {
     "name": "stderr",
     "output_type": "stream",
     "text": [
      "C:\\Users\\Omer\\AppData\\Local\\Temp\\ipykernel_18680\\2248095568.py:112: FutureWarning: The frame.append method is deprecated and will be removed from pandas in a future version. Use pandas.concat instead.\n",
      "  df = df.append({'series_name' : series_name, 'track_id' : song_track_id},ignore_index = True) # add the track id and corresponding tv series name to dataframe\n"
     ]
    },
    {
     "name": "stdout",
     "output_type": "stream",
     "text": [
      "4iyQ6VaRnjLtUtgsVvOwsL is added.\n",
      "There is no song in this episode.\n",
      "number of songs in this episode : 7\n"
     ]
    },
    {
     "name": "stderr",
     "output_type": "stream",
     "text": [
      "C:\\Users\\Omer\\AppData\\Local\\Temp\\ipykernel_18680\\2248095568.py:112: FutureWarning: The frame.append method is deprecated and will be removed from pandas in a future version. Use pandas.concat instead.\n",
      "  df = df.append({'series_name' : series_name, 'track_id' : song_track_id},ignore_index = True) # add the track id and corresponding tv series name to dataframe\n"
     ]
    },
    {
     "name": "stdout",
     "output_type": "stream",
     "text": [
      "61USYgwMetQDypiwYaNySg is added.\n"
     ]
    },
    {
     "name": "stderr",
     "output_type": "stream",
     "text": [
      "C:\\Users\\Omer\\AppData\\Local\\Temp\\ipykernel_18680\\2248095568.py:112: FutureWarning: The frame.append method is deprecated and will be removed from pandas in a future version. Use pandas.concat instead.\n",
      "  df = df.append({'series_name' : series_name, 'track_id' : song_track_id},ignore_index = True) # add the track id and corresponding tv series name to dataframe\n"
     ]
    },
    {
     "name": "stdout",
     "output_type": "stream",
     "text": [
      "6fYtKYYmH3cnoP9hvDmB7J is added.\n"
     ]
    },
    {
     "name": "stderr",
     "output_type": "stream",
     "text": [
      "C:\\Users\\Omer\\AppData\\Local\\Temp\\ipykernel_18680\\2248095568.py:112: FutureWarning: The frame.append method is deprecated and will be removed from pandas in a future version. Use pandas.concat instead.\n",
      "  df = df.append({'series_name' : series_name, 'track_id' : song_track_id},ignore_index = True) # add the track id and corresponding tv series name to dataframe\n"
     ]
    },
    {
     "name": "stdout",
     "output_type": "stream",
     "text": [
      "4gCFtvBXxWH3D7VTma7S7Y is added.\n"
     ]
    },
    {
     "name": "stderr",
     "output_type": "stream",
     "text": [
      "C:\\Users\\Omer\\AppData\\Local\\Temp\\ipykernel_18680\\2248095568.py:112: FutureWarning: The frame.append method is deprecated and will be removed from pandas in a future version. Use pandas.concat instead.\n",
      "  df = df.append({'series_name' : series_name, 'track_id' : song_track_id},ignore_index = True) # add the track id and corresponding tv series name to dataframe\n"
     ]
    },
    {
     "name": "stdout",
     "output_type": "stream",
     "text": [
      "0TSEHJRuWTtdCkIX3Pe03L is added.\n"
     ]
    },
    {
     "name": "stderr",
     "output_type": "stream",
     "text": [
      "C:\\Users\\Omer\\AppData\\Local\\Temp\\ipykernel_18680\\2248095568.py:112: FutureWarning: The frame.append method is deprecated and will be removed from pandas in a future version. Use pandas.concat instead.\n",
      "  df = df.append({'series_name' : series_name, 'track_id' : song_track_id},ignore_index = True) # add the track id and corresponding tv series name to dataframe\n"
     ]
    },
    {
     "name": "stdout",
     "output_type": "stream",
     "text": [
      "3qmBqj3EmghQ4UayTRBbL1 is added.\n"
     ]
    },
    {
     "name": "stderr",
     "output_type": "stream",
     "text": [
      "C:\\Users\\Omer\\AppData\\Local\\Temp\\ipykernel_18680\\2248095568.py:112: FutureWarning: The frame.append method is deprecated and will be removed from pandas in a future version. Use pandas.concat instead.\n",
      "  df = df.append({'series_name' : series_name, 'track_id' : song_track_id},ignore_index = True) # add the track id and corresponding tv series name to dataframe\n"
     ]
    },
    {
     "name": "stdout",
     "output_type": "stream",
     "text": [
      "1kBJmyerIA1x6e8Aq6mRgD is added.\n"
     ]
    },
    {
     "name": "stderr",
     "output_type": "stream",
     "text": [
      "C:\\Users\\Omer\\AppData\\Local\\Temp\\ipykernel_18680\\2248095568.py:112: FutureWarning: The frame.append method is deprecated and will be removed from pandas in a future version. Use pandas.concat instead.\n",
      "  df = df.append({'series_name' : series_name, 'track_id' : song_track_id},ignore_index = True) # add the track id and corresponding tv series name to dataframe\n"
     ]
    },
    {
     "name": "stdout",
     "output_type": "stream",
     "text": [
      "1svZ16d9FKvt9k7zpX4Wls is added.\n",
      "number of songs in this episode : 1\n"
     ]
    },
    {
     "name": "stderr",
     "output_type": "stream",
     "text": [
      "C:\\Users\\Omer\\AppData\\Local\\Temp\\ipykernel_18680\\2248095568.py:112: FutureWarning: The frame.append method is deprecated and will be removed from pandas in a future version. Use pandas.concat instead.\n",
      "  df = df.append({'series_name' : series_name, 'track_id' : song_track_id},ignore_index = True) # add the track id and corresponding tv series name to dataframe\n"
     ]
    },
    {
     "name": "stdout",
     "output_type": "stream",
     "text": [
      "3wMkudI2bLkGRRsaUFEilk is added.\n",
      "number of songs in this episode : 3\n"
     ]
    },
    {
     "name": "stderr",
     "output_type": "stream",
     "text": [
      "C:\\Users\\Omer\\AppData\\Local\\Temp\\ipykernel_18680\\2248095568.py:112: FutureWarning: The frame.append method is deprecated and will be removed from pandas in a future version. Use pandas.concat instead.\n",
      "  df = df.append({'series_name' : series_name, 'track_id' : song_track_id},ignore_index = True) # add the track id and corresponding tv series name to dataframe\n"
     ]
    },
    {
     "name": "stdout",
     "output_type": "stream",
     "text": [
      "4W3MGSqFaYYWHgBdbiKuCc is added.\n"
     ]
    },
    {
     "name": "stderr",
     "output_type": "stream",
     "text": [
      "C:\\Users\\Omer\\AppData\\Local\\Temp\\ipykernel_18680\\2248095568.py:112: FutureWarning: The frame.append method is deprecated and will be removed from pandas in a future version. Use pandas.concat instead.\n",
      "  df = df.append({'series_name' : series_name, 'track_id' : song_track_id},ignore_index = True) # add the track id and corresponding tv series name to dataframe\n"
     ]
    },
    {
     "name": "stdout",
     "output_type": "stream",
     "text": [
      "1htKTOAtSmDJwMqFd94jcp is added.\n"
     ]
    },
    {
     "name": "stderr",
     "output_type": "stream",
     "text": [
      "C:\\Users\\Omer\\AppData\\Local\\Temp\\ipykernel_18680\\2248095568.py:112: FutureWarning: The frame.append method is deprecated and will be removed from pandas in a future version. Use pandas.concat instead.\n",
      "  df = df.append({'series_name' : series_name, 'track_id' : song_track_id},ignore_index = True) # add the track id and corresponding tv series name to dataframe\n"
     ]
    },
    {
     "name": "stdout",
     "output_type": "stream",
     "text": [
      "6pgccPu73L8iOoWIWgCSvj is added.\n",
      "it is not an episode.\n",
      "number of songs in this episode : 1\n"
     ]
    },
    {
     "name": "stderr",
     "output_type": "stream",
     "text": [
      "C:\\Users\\Omer\\AppData\\Local\\Temp\\ipykernel_18680\\2248095568.py:112: FutureWarning: The frame.append method is deprecated and will be removed from pandas in a future version. Use pandas.concat instead.\n",
      "  df = df.append({'series_name' : series_name, 'track_id' : song_track_id},ignore_index = True) # add the track id and corresponding tv series name to dataframe\n"
     ]
    },
    {
     "name": "stdout",
     "output_type": "stream",
     "text": [
      "4vFlYlbylirdxtM3YTrAQY is added.\n",
      "number of songs in this episode : 5\n",
      "6yHYhOnNSbNVYJRoJMfwUU is added.\n"
     ]
    },
    {
     "name": "stderr",
     "output_type": "stream",
     "text": [
      "C:\\Users\\Omer\\AppData\\Local\\Temp\\ipykernel_18680\\2248095568.py:112: FutureWarning: The frame.append method is deprecated and will be removed from pandas in a future version. Use pandas.concat instead.\n",
      "  df = df.append({'series_name' : series_name, 'track_id' : song_track_id},ignore_index = True) # add the track id and corresponding tv series name to dataframe\n",
      "C:\\Users\\Omer\\AppData\\Local\\Temp\\ipykernel_18680\\2248095568.py:112: FutureWarning: The frame.append method is deprecated and will be removed from pandas in a future version. Use pandas.concat instead.\n",
      "  df = df.append({'series_name' : series_name, 'track_id' : song_track_id},ignore_index = True) # add the track id and corresponding tv series name to dataframe\n"
     ]
    },
    {
     "name": "stdout",
     "output_type": "stream",
     "text": [
      "2E7DSQBRBSHwTZKxwBMexw is added.\n"
     ]
    },
    {
     "name": "stderr",
     "output_type": "stream",
     "text": [
      "C:\\Users\\Omer\\AppData\\Local\\Temp\\ipykernel_18680\\2248095568.py:112: FutureWarning: The frame.append method is deprecated and will be removed from pandas in a future version. Use pandas.concat instead.\n",
      "  df = df.append({'series_name' : series_name, 'track_id' : song_track_id},ignore_index = True) # add the track id and corresponding tv series name to dataframe\n"
     ]
    },
    {
     "name": "stdout",
     "output_type": "stream",
     "text": [
      "1FKXaOeAb7ifu8XhAToClu is added.\n"
     ]
    },
    {
     "name": "stderr",
     "output_type": "stream",
     "text": [
      "C:\\Users\\Omer\\AppData\\Local\\Temp\\ipykernel_18680\\2248095568.py:112: FutureWarning: The frame.append method is deprecated and will be removed from pandas in a future version. Use pandas.concat instead.\n",
      "  df = df.append({'series_name' : series_name, 'track_id' : song_track_id},ignore_index = True) # add the track id and corresponding tv series name to dataframe\n"
     ]
    },
    {
     "name": "stdout",
     "output_type": "stream",
     "text": [
      "7g0U3rtBMMVCD3a4aZM7hq is added.\n"
     ]
    },
    {
     "name": "stderr",
     "output_type": "stream",
     "text": [
      "C:\\Users\\Omer\\AppData\\Local\\Temp\\ipykernel_18680\\2248095568.py:112: FutureWarning: The frame.append method is deprecated and will be removed from pandas in a future version. Use pandas.concat instead.\n",
      "  df = df.append({'series_name' : series_name, 'track_id' : song_track_id},ignore_index = True) # add the track id and corresponding tv series name to dataframe\n"
     ]
    },
    {
     "name": "stdout",
     "output_type": "stream",
     "text": [
      "05ztO5zNCLATon3gWWg6rJ is added.\n",
      "number of songs in this episode : 8\n",
      "song is not on spotify\n"
     ]
    },
    {
     "name": "stderr",
     "output_type": "stream",
     "text": [
      "C:\\Users\\Omer\\AppData\\Local\\Temp\\ipykernel_18680\\2248095568.py:112: FutureWarning: The frame.append method is deprecated and will be removed from pandas in a future version. Use pandas.concat instead.\n",
      "  df = df.append({'series_name' : series_name, 'track_id' : song_track_id},ignore_index = True) # add the track id and corresponding tv series name to dataframe\n"
     ]
    },
    {
     "name": "stdout",
     "output_type": "stream",
     "text": [
      "4IFmWPR5GbgbCW1tys4rPk is added.\n"
     ]
    },
    {
     "name": "stderr",
     "output_type": "stream",
     "text": [
      "C:\\Users\\Omer\\AppData\\Local\\Temp\\ipykernel_18680\\2248095568.py:112: FutureWarning: The frame.append method is deprecated and will be removed from pandas in a future version. Use pandas.concat instead.\n",
      "  df = df.append({'series_name' : series_name, 'track_id' : song_track_id},ignore_index = True) # add the track id and corresponding tv series name to dataframe\n"
     ]
    },
    {
     "name": "stdout",
     "output_type": "stream",
     "text": [
      "7oFZ0yGzQ1hZaHfnQbeORy is added.\n"
     ]
    },
    {
     "name": "stderr",
     "output_type": "stream",
     "text": [
      "C:\\Users\\Omer\\AppData\\Local\\Temp\\ipykernel_18680\\2248095568.py:112: FutureWarning: The frame.append method is deprecated and will be removed from pandas in a future version. Use pandas.concat instead.\n",
      "  df = df.append({'series_name' : series_name, 'track_id' : song_track_id},ignore_index = True) # add the track id and corresponding tv series name to dataframe\n"
     ]
    },
    {
     "name": "stdout",
     "output_type": "stream",
     "text": [
      "1YL6nygwDM0F7ZqDfQuL2I is added.\n"
     ]
    },
    {
     "name": "stderr",
     "output_type": "stream",
     "text": [
      "C:\\Users\\Omer\\AppData\\Local\\Temp\\ipykernel_18680\\2248095568.py:112: FutureWarning: The frame.append method is deprecated and will be removed from pandas in a future version. Use pandas.concat instead.\n",
      "  df = df.append({'series_name' : series_name, 'track_id' : song_track_id},ignore_index = True) # add the track id and corresponding tv series name to dataframe\n"
     ]
    },
    {
     "name": "stdout",
     "output_type": "stream",
     "text": [
      "4bJI9uGfjRCWVZnZHaHzuQ is added.\n"
     ]
    },
    {
     "name": "stderr",
     "output_type": "stream",
     "text": [
      "C:\\Users\\Omer\\AppData\\Local\\Temp\\ipykernel_18680\\2248095568.py:112: FutureWarning: The frame.append method is deprecated and will be removed from pandas in a future version. Use pandas.concat instead.\n",
      "  df = df.append({'series_name' : series_name, 'track_id' : song_track_id},ignore_index = True) # add the track id and corresponding tv series name to dataframe\n"
     ]
    },
    {
     "name": "stdout",
     "output_type": "stream",
     "text": [
      "2Pd9RW3hoQzTT2pFcOE5sM is added.\n"
     ]
    },
    {
     "name": "stderr",
     "output_type": "stream",
     "text": [
      "C:\\Users\\Omer\\AppData\\Local\\Temp\\ipykernel_18680\\2248095568.py:112: FutureWarning: The frame.append method is deprecated and will be removed from pandas in a future version. Use pandas.concat instead.\n",
      "  df = df.append({'series_name' : series_name, 'track_id' : song_track_id},ignore_index = True) # add the track id and corresponding tv series name to dataframe\n"
     ]
    },
    {
     "name": "stdout",
     "output_type": "stream",
     "text": [
      "26jgMDo8CR33rxt9CEMymT is added.\n"
     ]
    },
    {
     "name": "stderr",
     "output_type": "stream",
     "text": [
      "C:\\Users\\Omer\\AppData\\Local\\Temp\\ipykernel_18680\\2248095568.py:112: FutureWarning: The frame.append method is deprecated and will be removed from pandas in a future version. Use pandas.concat instead.\n",
      "  df = df.append({'series_name' : series_name, 'track_id' : song_track_id},ignore_index = True) # add the track id and corresponding tv series name to dataframe\n"
     ]
    },
    {
     "name": "stdout",
     "output_type": "stream",
     "text": [
      "0yEAaSZGR9TlcPkFqpZzAf is added.\n",
      "There is no song in this episode.\n"
     ]
    }
   ],
   "source": [
    "links = ['https://www.tunefind.com/show/sons-of-anarchy','https://www.tunefind.com/show/silicon-valley','https://www.tunefind.com/show/vikings']\n",
    "get_musics_for_tv_series(\"C:/Users/Omer/Documents/music_tv_series/chromedriver.exe\",links)"
   ]
  },
  {
   "cell_type": "code",
   "execution_count": null,
   "id": "76dde21d",
   "metadata": {},
   "outputs": [],
   "source": []
  }
 ],
 "metadata": {
  "kernelspec": {
   "display_name": "Python 3 (ipykernel)",
   "language": "python",
   "name": "python3"
  },
  "language_info": {
   "codemirror_mode": {
    "name": "ipython",
    "version": 3
   },
   "file_extension": ".py",
   "mimetype": "text/x-python",
   "name": "python",
   "nbconvert_exporter": "python",
   "pygments_lexer": "ipython3",
   "version": "3.9.10"
  }
 },
 "nbformat": 4,
 "nbformat_minor": 5
}
